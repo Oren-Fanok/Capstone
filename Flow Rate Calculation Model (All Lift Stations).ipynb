{
 "cells": [
  {
   "cell_type": "markdown",
   "id": "d72d653f",
   "metadata": {},
   "source": [
    "# SCADA Flow Rate Calculation Model"
   ]
  },
  {
   "cell_type": "code",
   "execution_count": 1,
   "id": "5e52dc9b",
   "metadata": {},
   "outputs": [],
   "source": [
    "import pandas as pd\n",
    "import os\n",
    "import csv\n",
    "import math\n",
    "\n",
    "import re\n",
    "import datetime\n",
    "import io\n",
    "from zipfile import ZipFile\n",
    "\n",
    "import pandas as pd\n",
    "import numpy as np\n",
    "import pandas_gbq\n",
    "import janitor"
   ]
  },
  {
   "cell_type": "markdown",
   "id": "9136e846",
   "metadata": {},
   "source": [
    "# Section 1"
   ]
  },
  {
   "cell_type": "markdown",
   "id": "5e3197e8",
   "metadata": {},
   "source": [
    "In this section, I read my Lift Station SCADA data and Lift Station Legend data to a pandas data frames and do some quick formatting. I'll begin by converting the date and time column to DateTime format, dropping unneeded columns, and dropping any NA values. Once this process is finished we are ready to begin section 2."
   ]
  },
  {
   "cell_type": "markdown",
   "id": "3ebeae29",
   "metadata": {},
   "source": [
    "## Read SCADA data into Pandas Dataframe"
   ]
  },
  {
   "cell_type": "code",
   "execution_count": 2,
   "id": "ad5d3267",
   "metadata": {
    "scrolled": true
   },
   "outputs": [
    {
     "name": "stderr",
     "output_type": "stream",
     "text": [
      "/var/folders/2x/4hk6jhf96_q696_2h9d_fstw0000gp/T/ipykernel_3769/2210235391.py:1: DtypeWarning: Columns (0) have mixed types. Specify dtype option on import or set low_memory=False.\n",
      "  df = pd.read_csv('LiftStation.csv')\n"
     ]
    }
   ],
   "source": [
    "df = pd.read_csv('LiftStation.csv')"
   ]
  },
  {
   "cell_type": "code",
   "execution_count": 3,
   "id": "9f8892a7",
   "metadata": {},
   "outputs": [],
   "source": [
    "legend = pd.read_csv('Lift Station Legend Cross Referance.csv')"
   ]
  },
  {
   "cell_type": "code",
   "execution_count": 4,
   "id": "1b0fdfd8",
   "metadata": {},
   "outputs": [],
   "source": [
    "legend = legend.drop('Pump #1 Run', axis=1)\n",
    "legend = legend.drop('Pump #2 Run', axis=1)\n",
    "legend = legend.drop('Pump #3 Run', axis=1)\n",
    "legend = legend.drop('Table Tag #.4', axis=1)\n",
    "legend = legend.drop('Pump #4 Run', axis=1)\n",
    "legend = legend.drop('Unnamed: 11', axis=1)"
   ]
  },
  {
   "cell_type": "markdown",
   "id": "4d099a59",
   "metadata": {},
   "source": [
    "## Convert the DateAndTime column to Datetime Format"
   ]
  },
  {
   "cell_type": "code",
   "execution_count": 5,
   "id": "8f310725",
   "metadata": {},
   "outputs": [],
   "source": [
    "df['PumpStart'] = pd.to_datetime(df['PumpStart'])\n",
    "df['PumpStop'] = pd.to_datetime(df['PumpStop'])"
   ]
  },
  {
   "cell_type": "markdown",
   "id": "da1c6a82",
   "metadata": {},
   "source": [
    "## Format the dataframe"
   ]
  },
  {
   "cell_type": "code",
   "execution_count": 6,
   "id": "bb74c6c0",
   "metadata": {},
   "outputs": [],
   "source": [
    "df = df.dropna(subset=['PumpStart', 'PumpStop'])"
   ]
  },
  {
   "cell_type": "code",
   "execution_count": 7,
   "id": "4f5c264c",
   "metadata": {},
   "outputs": [],
   "source": [
    "df['PumpTagIndex'] = df['PumpTagIndex'].astype(int)"
   ]
  },
  {
   "cell_type": "code",
   "execution_count": 8,
   "id": "49b255b4",
   "metadata": {},
   "outputs": [],
   "source": [
    "# create a boolean mask of rows with duplicate \"PumpTagIndex\" and \"PumpStart\" values\n",
    "mask = df.duplicated(subset =['PumpTagIndex', 'PumpStart'], keep = 'first')\n",
    "\n",
    "# drop the duplicate rows using the boolean mask\n",
    "\n",
    "#now let's drop the duplicate rows\n",
    "new_df = df[~mask]\n",
    "# reset the index after dropping rows\n",
    "new_df.reset_index(drop=True, inplace=True)\n",
    "\n",
    "# print the length of the new dataframe\n",
    "#print(len(new_df))"
   ]
  },
  {
   "cell_type": "code",
   "execution_count": 9,
   "id": "90c535d8",
   "metadata": {},
   "outputs": [],
   "source": [
    "# create a boolean mask of rows with duplicate \"PumpTagIndex\" and \"PumpStart\" values\n",
    "mask = new_df.duplicated(subset=['PumpTagIndex', 'PumpStop'], keep='first')\n",
    "\n",
    "# drop the duplicate rows using the boolean mask\n",
    "new_df = new_df[~mask]\n",
    "\n",
    "# reset the index after dropping rows\n",
    "new_df.reset_index(drop=True, inplace=True)\n",
    "\n",
    "# print the length of the new dataframe\n",
    "#print(len(new_df))"
   ]
  },
  {
   "cell_type": "markdown",
   "id": "9d2d6eae",
   "metadata": {},
   "source": [
    "# Section 2"
   ]
  },
  {
   "cell_type": "markdown",
   "id": "81237bc8",
   "metadata": {},
   "source": [
    "In this section, I will create a new data frame called calc_df, which will hold all of our calculated data going forward. \n",
    "\n",
    "I'll begin by assigning the original df to my calculated df, and reformatting the columns (names and order). \n",
    "\n",
    "Next I will remove any erroneous rows containing invalid pump numbers.\n",
    "\n",
    "Then I'll use the legend dataframe I read into the program earlier to add the correct lift station name to each row in calc_df.\n",
    "\n",
    "Finally, I will convert both on and off timestamps into Unix time and calculate the difference in time between the pump turning on and off. \n",
    "\n",
    "Note: Remove the # in front of any of the calc_df lines to see a preview of the data frame."
   ]
  },
  {
   "cell_type": "markdown",
   "id": "0a3b4937",
   "metadata": {},
   "source": [
    "## Create new data frame"
   ]
  },
  {
   "cell_type": "code",
   "execution_count": 10,
   "id": "79063260",
   "metadata": {},
   "outputs": [],
   "source": [
    "calc_df = new_df\n",
    "calc_df = calc_df.rename(columns={'PumpStart': 'PumpStartTime'})\n",
    "calc_df = calc_df.rename(columns={'PumpStop': 'PumpStopTime'})\n",
    "calc_df = calc_df.rename(columns={'WellStart': 'StartWellLevel'})\n",
    "calc_df = calc_df.rename(columns={'WellEnd': 'StopWellLevel'})"
   ]
  },
  {
   "cell_type": "code",
   "execution_count": 11,
   "id": "0d032139",
   "metadata": {},
   "outputs": [],
   "source": [
    "calc_df['LiftStation'] = None\n",
    "calc_df['StartUnix'] = 0.0\n",
    "calc_df['StopUnix'] = 0.0\n",
    "calc_df['Time_diff'] = 0.0"
   ]
  },
  {
   "cell_type": "code",
   "execution_count": 12,
   "id": "7cc32605",
   "metadata": {},
   "outputs": [],
   "source": [
    "calc_df = calc_df[['LiftStation','PumpTagIndex', 'PumpStartTime', 'StartWellLevel','PumpStopTime', 'StopWellLevel', 'StartUnix', 'StopUnix', 'Time_diff']]"
   ]
  },
  {
   "cell_type": "code",
   "execution_count": 13,
   "id": "220b3cd4",
   "metadata": {},
   "outputs": [],
   "source": [
    "#calc_df"
   ]
  },
  {
   "cell_type": "markdown",
   "id": "ccac6fb1",
   "metadata": {},
   "source": [
    "## Delete any rows with incorrect pump numbers"
   ]
  },
  {
   "cell_type": "code",
   "execution_count": 14,
   "id": "8776734c",
   "metadata": {},
   "outputs": [],
   "source": [
    "#create a list of valid pump numbers\n",
    "\n",
    "valid_pumps = []\n",
    "\n",
    "for index, row in legend.iterrows():\n",
    "    valid_pumps.append(row['Table Tag #'])\n",
    "    valid_pumps.append(row['Table Tag #.1'])\n",
    "    valid_pumps.append(row['Table Tag #.2'])\n",
    "    valid_pumps.append(row['Table Tag #.3'])\n",
    "    \n",
    "valid_pumps = list(filter(lambda x: not math.isnan(x), valid_pumps))\n",
    "        \n",
    "#len(valid_pumps)"
   ]
  },
  {
   "cell_type": "code",
   "execution_count": 15,
   "id": "90d121bf",
   "metadata": {},
   "outputs": [],
   "source": [
    "calc_df = calc_df[calc_df['PumpTagIndex'].isin(valid_pumps)]\n",
    "calc_df = calc_df.reset_index(drop=True)\n",
    "calc_df['PumpTagIndex'] = calc_df['PumpTagIndex'].astype(int)"
   ]
  },
  {
   "cell_type": "markdown",
   "id": "cc5861c2",
   "metadata": {},
   "source": [
    "## Add the correct Lift Station to each row in calc_df"
   ]
  },
  {
   "cell_type": "markdown",
   "id": "a0ce6b1f",
   "metadata": {},
   "source": [
    "Here I am going to perfom 4 joins between the legend dataframe and my calc_df. Each join will merge the legend and calc data frames on one of the 4 table tag #'s."
   ]
  },
  {
   "cell_type": "markdown",
   "id": "39e14163",
   "metadata": {},
   "source": [
    "Table Tag 0 Join"
   ]
  },
  {
   "cell_type": "code",
   "execution_count": 16,
   "id": "305c9610",
   "metadata": {},
   "outputs": [],
   "source": [
    "# Left join calc_df to legend df where Pump Tag Index = Table Tag\n",
    "merged_df = calc_df.merge(legend, left_on='PumpTagIndex', right_on='Table Tag #', how='left')\n",
    "\n",
    "# Create a mask to filter the rows where Lift Station is not empty\n",
    "mask = merged_df['Lift Station'].notnull()\n",
    "\n",
    "# Assign the Lift Station values to the LiftStation column in the calc_df dataframe\n",
    "calc_df.loc[mask, 'LiftStation'] = merged_df.loc[mask, 'Lift Station']"
   ]
  },
  {
   "cell_type": "markdown",
   "id": "2c5ed9a5",
   "metadata": {},
   "source": [
    "Table Tag 1 Join"
   ]
  },
  {
   "cell_type": "code",
   "execution_count": 17,
   "id": "1977a9bd",
   "metadata": {},
   "outputs": [],
   "source": [
    "merged_df = calc_df.merge(legend, left_on='PumpTagIndex', right_on='Table Tag #.1', how='left')\n",
    "\n",
    "# Create a mask to filter the rows where Lift Station is not empty\n",
    "mask = merged_df['Lift Station'].notnull()\n",
    "\n",
    "# Assign the Lift Station values to the LiftStation column in the calc_df dataframe\n",
    "calc_df.loc[mask, 'LiftStation'] = merged_df.loc[mask, 'Lift Station']"
   ]
  },
  {
   "cell_type": "markdown",
   "id": "72af73b5",
   "metadata": {},
   "source": [
    "Table Tag 2 Join"
   ]
  },
  {
   "cell_type": "code",
   "execution_count": 18,
   "id": "4ca7d448",
   "metadata": {},
   "outputs": [],
   "source": [
    "merged_df = calc_df.merge(legend, left_on='PumpTagIndex', right_on='Table Tag #.2', how='left')\n",
    "\n",
    "# Create a mask to filter the rows where Lift Station is not empty\n",
    "mask = merged_df['Lift Station'].notnull()\n",
    "\n",
    "# Assign the Lift Station values to the LiftStation column in the calc_df dataframe\n",
    "calc_df.loc[mask, 'LiftStation'] = merged_df.loc[mask, 'Lift Station']"
   ]
  },
  {
   "cell_type": "markdown",
   "id": "a36019db",
   "metadata": {},
   "source": [
    "Table Tag 3 Join"
   ]
  },
  {
   "cell_type": "code",
   "execution_count": 19,
   "id": "f1ce3e1d",
   "metadata": {},
   "outputs": [],
   "source": [
    "merged_df = calc_df.merge(legend, left_on='PumpTagIndex', right_on='Table Tag #.3', how='left')\n",
    "\n",
    "# Create a mask to filter the rows where Lift Station is not empty\n",
    "mask = merged_df['Lift Station'].notnull()\n",
    "\n",
    "# Assign the Lift Station values to the LiftStation column in the calc_df dataframe\n",
    "calc_df.loc[mask, 'LiftStation'] = merged_df.loc[mask, 'Lift Station']"
   ]
  },
  {
   "cell_type": "markdown",
   "id": "fff44f32",
   "metadata": {},
   "source": [
    "## Now let's get Unix time for each timestamp"
   ]
  },
  {
   "cell_type": "code",
   "execution_count": 20,
   "id": "a59bb07a",
   "metadata": {},
   "outputs": [],
   "source": [
    "calc_df['StartUnix'] = calc_df['PumpStartTime'].astype(int)/ 10**9\n",
    "calc_df['StopUnix'] = calc_df['PumpStopTime'].astype(int) / 10**9"
   ]
  },
  {
   "cell_type": "code",
   "execution_count": 21,
   "id": "32bae088",
   "metadata": {
    "scrolled": true
   },
   "outputs": [],
   "source": [
    "#calc_df.head(20)"
   ]
  },
  {
   "cell_type": "markdown",
   "id": "96f07258",
   "metadata": {},
   "source": [
    "## Calculating the time difference between Pumps turning on and off"
   ]
  },
  {
   "cell_type": "code",
   "execution_count": 22,
   "id": "be7f8e85",
   "metadata": {},
   "outputs": [],
   "source": [
    "calc_df['Time_diff'] = (calc_df['StopUnix'] - calc_df['StartUnix']) / 60"
   ]
  },
  {
   "cell_type": "markdown",
   "id": "dfb5b1bf",
   "metadata": {},
   "source": [
    "# Section 3"
   ]
  },
  {
   "cell_type": "markdown",
   "id": "cf24214b",
   "metadata": {},
   "source": [
    "In this section, I will add elevation difference, volume per foot, observed pumping flow rate, the average flow rate per pump, and average observed pumping flow rate (GPM).\n",
    "\n",
    "Elevation Difference - This value can be changed for the desired lift station. Please note that each lift station will have a different elevation level. To change the elevation for a different lift station, simply change the 2.2 in the first cell below.\n",
    "\n",
    "Observed pumping flow rate - To calculate this value we first need to input the wet wells diameter, again this value will differ per each lift station. Simply change the diameter in the diam_well = (5) statement to the desired value. From there the vol_per_foot calculation will update and be added to the calc_df. Now we have all the information in the calc_df to calculate the observed pumping flow rate. I'll take the elevation difference value times the volume per foot value, and divide the result by our time difference. The resulting value will be added to the calc_df in the observed pumping flow rate column.\n",
    "\n",
    "Average flow rate per pump - Average flow rate per pump is calculated by adding the values in the observed pumping flow rate column for each pump and then dividing that sum by the count of values for that pump. So if I iterate over 4 rows of the calc_df, and pump 1 has 3 out of the 4 rows with an observed pumping flow rate of 100, 120, and 100, the formula will sum these three rows (320) and divide by the number of rows that were related to pump 1 (3). The average flow rate per pump 1 in row 4 would be 106.\n",
    "\n",
    "Average observed pumping flow rate (GPM) - to calculate this value I simply add all the average flow rates for both pumps and divide the sum by the count of rows I have iterated over. For example, if I have iterated over 4 rows, and 2 of the rows are pump 1 and 2 are pump 2, I'll add up the values from both pumps (100,110,100,120) and divide the sum by 4 to calculate the average observed pumping flow rate in GPM of 107.5 in row 4.\n",
    "\n"
   ]
  },
  {
   "cell_type": "markdown",
   "id": "ec48733e",
   "metadata": {},
   "source": [
    "## Add in Elevation Difference"
   ]
  },
  {
   "cell_type": "code",
   "execution_count": 23,
   "id": "a9fc39bb",
   "metadata": {},
   "outputs": [],
   "source": [
    "calc_df['Elevation_dif'] = 0.0"
   ]
  },
  {
   "cell_type": "code",
   "execution_count": 24,
   "id": "98f1d3c0",
   "metadata": {},
   "outputs": [],
   "source": [
    "legend['Elevation_diff'] = 2.2"
   ]
  },
  {
   "cell_type": "code",
   "execution_count": 25,
   "id": "850cc1fc",
   "metadata": {},
   "outputs": [],
   "source": [
    "legend.loc[0, 'Elevation_diff'] = 3.3"
   ]
  },
  {
   "cell_type": "code",
   "execution_count": 26,
   "id": "5abadfa1",
   "metadata": {},
   "outputs": [],
   "source": [
    "#merge legend elevation_diff to calc_df\n",
    "\n",
    "merged_df = calc_df.merge(legend, left_on = 'LiftStation', right_on = 'Lift Station', how = 'left')\n",
    "\n",
    "mask = merged_df['Elevation_diff'].notnull()\n",
    "\n",
    "calc_df.loc[mask, 'Elevation_dif'] = merged_df.loc[mask, 'Elevation_diff']"
   ]
  },
  {
   "cell_type": "markdown",
   "id": "599de884",
   "metadata": {},
   "source": [
    "## Calculate Observed Pumping Flow Rate"
   ]
  },
  {
   "cell_type": "markdown",
   "id": "adf50982",
   "metadata": {},
   "source": [
    "### Calculate Volume Per Foot for each well"
   ]
  },
  {
   "cell_type": "code",
   "execution_count": 27,
   "id": "4971cd05",
   "metadata": {},
   "outputs": [],
   "source": [
    "#initialize new column\n",
    "calc_df['wet_well_diam'] = 0.0\n",
    "\n",
    "# left join calc_df and legend df on lift station\n",
    "merged_df = calc_df.merge(legend, left_on = 'LiftStation', right_on = 'Lift Station', how = 'left')\n",
    "\n",
    "#create a boolean mask to find all rows where we have a wet well diameter\n",
    "mask = merged_df['Wet Well Diam'].notnull()\n",
    "\n",
    "#add the wet well diameter value from the legend dataframe to the calc_df where mask is true\n",
    "calc_df.loc[mask, 'wet_well_diam'] = merged_df.loc[mask, 'Wet Well Diam']"
   ]
  },
  {
   "cell_type": "code",
   "execution_count": 28,
   "id": "b935508d",
   "metadata": {},
   "outputs": [],
   "source": [
    "#Calculate volume per foot (check 4*7.48)\n",
    "calc_df['volume_per_foot'] = round(((calc_df['wet_well_diam']*calc_df['wet_well_diam']) * 3.14)/4*7.48)"
   ]
  },
  {
   "cell_type": "markdown",
   "id": "bee9c131",
   "metadata": {},
   "source": [
    "### Calculate Observed Pumping Flow Rate"
   ]
  },
  {
   "cell_type": "code",
   "execution_count": 29,
   "id": "3d40720d",
   "metadata": {},
   "outputs": [],
   "source": [
    "calc_df['observed_pumping_flow_rate'] = int()"
   ]
  },
  {
   "cell_type": "code",
   "execution_count": 30,
   "id": "c3a6b203",
   "metadata": {},
   "outputs": [],
   "source": [
    "for index, row in calc_df.iterrows():\n",
    "    result = round((row['Elevation_dif'] * row['volume_per_foot'])/row['Time_diff'])\n",
    "    calc_df.at[index,'observed_pumping_flow_rate'] = result"
   ]
  },
  {
   "cell_type": "code",
   "execution_count": 31,
   "id": "90bf5687",
   "metadata": {},
   "outputs": [],
   "source": [
    "#calc_df"
   ]
  },
  {
   "cell_type": "markdown",
   "id": "84052158",
   "metadata": {},
   "source": [
    "## Calculate Average Flow Rate Per Pump"
   ]
  },
  {
   "cell_type": "code",
   "execution_count": 32,
   "id": "ca25d41f",
   "metadata": {},
   "outputs": [],
   "source": [
    "calc_df['avg_flow_rate_pump'] = int()"
   ]
  },
  {
   "cell_type": "markdown",
   "id": "62f340cb",
   "metadata": {},
   "source": [
    "### Create two dictionaries\n",
    "### 1. Dictionary containing a running total of Observed Pumping Flow Rate for each pump\n",
    "### 2. Dictionary containing a running row count of Observed Pumping Flow Rate for each pump"
   ]
  },
  {
   "cell_type": "code",
   "execution_count": 33,
   "id": "11d7a4ea",
   "metadata": {},
   "outputs": [],
   "source": [
    "sum_dict ={}\n",
    "count_dict ={}\n",
    "\n",
    "for item in valid_pumps:\n",
    "    result = 0\n",
    "    sum_dict[item] = result\n",
    "    count_dict[item] = result"
   ]
  },
  {
   "cell_type": "markdown",
   "id": "c7b37cb8",
   "metadata": {},
   "source": [
    "### Calculate Average Flow Rate Per Pump"
   ]
  },
  {
   "cell_type": "code",
   "execution_count": 34,
   "id": "c2a0d807",
   "metadata": {},
   "outputs": [],
   "source": [
    "for index, row in calc_df.iterrows():\n",
    "    tag = row[\"PumpTagIndex\"]\n",
    "    sum_dict[tag] += row['observed_pumping_flow_rate']\n",
    "    count_dict[tag] += 1\n",
    "    calc_df.at[index, 'avg_flow_rate_pump'] = sum_dict[tag] / count_dict[tag]    "
   ]
  },
  {
   "cell_type": "markdown",
   "id": "01004188",
   "metadata": {},
   "source": [
    "## Finally Let's calculate our Average Observed Pumping Flow Rate (GPM)"
   ]
  },
  {
   "cell_type": "code",
   "execution_count": 35,
   "id": "7fd5edca",
   "metadata": {},
   "outputs": [],
   "source": [
    "calc_df['average_observed_pumping_flow_rate'] = int()"
   ]
  },
  {
   "cell_type": "markdown",
   "id": "180b4e6f",
   "metadata": {},
   "source": [
    "### Create a dictionary for sum and count for each Lift Station"
   ]
  },
  {
   "cell_type": "code",
   "execution_count": 36,
   "id": "8b285e9e",
   "metadata": {},
   "outputs": [],
   "source": [
    "sum_dict ={}\n",
    "count_dict ={}\n",
    "\n",
    "for index, row in legend.iterrows():\n",
    "    result = 0\n",
    "    tag = row['Lift Station']\n",
    "    sum_dict[tag] = result\n",
    "    count_dict[tag] = result"
   ]
  },
  {
   "cell_type": "markdown",
   "id": "a278e474",
   "metadata": {},
   "source": [
    "### Calculate Average Observed Pumping Flow Rate (GPM)"
   ]
  },
  {
   "cell_type": "code",
   "execution_count": 37,
   "id": "ea3571d5",
   "metadata": {},
   "outputs": [],
   "source": [
    "for index, row in calc_df.iterrows():\n",
    "    tag = row[\"LiftStation\"]\n",
    "    sum_dict[tag] += row['observed_pumping_flow_rate']\n",
    "    count_dict[tag] += 1\n",
    "    calc_df.at[index, 'average_observed_pumping_flow_rate'] = sum_dict[tag] / count_dict[tag]  "
   ]
  },
  {
   "cell_type": "code",
   "execution_count": 38,
   "id": "f6076245",
   "metadata": {
    "scrolled": false
   },
   "outputs": [],
   "source": [
    "#filtered_df = calc_df[calc_df['LiftStation'] == 'Waldo (22)']\n",
    "#filtered_df.head(60)"
   ]
  },
  {
   "cell_type": "markdown",
   "id": "4aa7e42a",
   "metadata": {},
   "source": [
    "# Section 4"
   ]
  },
  {
   "cell_type": "markdown",
   "id": "6add84c6",
   "metadata": {},
   "source": [
    "In this section, I will calculate the time to fill, inflow, and average inflow. These values need to be accounted for when calculating flow rate, as even when the pumps are turned on within a wet well and the level is dropping, water is still flowing through the sewer pipes into the well.\n",
    "\n",
    "Time to fill - To calculate the time to fill for each row in calc_df, I take the stop Unix time of the first row within calc_df (when the pump turned off) and subtract this value from the start Unix time of the next row (when the pump turned back on). The difference between the pump turning off and the next pump turning on is my time to fill the measure.\n",
    "\n",
    "Inflow - To calculate my inflow value for each row in calc_df, I take the row's volume per foot value and multiply it by the row's elevation difference value. I then divide that result by the row's time to fill value we just calculated.\n",
    "\n",
    "Average Inflow - To calculate my average inflow for each row in calc_df, I simply add all the values for inflow in the rows I have iterated over and divide by the count of those rows. So if I have iterated over 4 rows so far in calc_df and the inflow values are (60,40,20,60) I sum these values (180) and divide by four to get my average inflow value in row 4, 45.\n"
   ]
  },
  {
   "cell_type": "markdown",
   "id": "fb8e3088",
   "metadata": {},
   "source": [
    "## Calculate time to fill"
   ]
  },
  {
   "cell_type": "code",
   "execution_count": 39,
   "id": "f7de90e1",
   "metadata": {},
   "outputs": [],
   "source": [
    "calc_df['Time_to_Fill'] = float()"
   ]
  },
  {
   "cell_type": "markdown",
   "id": "a44bd5e4",
   "metadata": {},
   "source": [
    "### Create two dictionaries\n",
    "### 1. Dictionary containing the Start Unix time for each Lift Station\n",
    "### 2. Dictionary containing the Stop Unix time for each Lift Station"
   ]
  },
  {
   "cell_type": "code",
   "execution_count": 40,
   "id": "a55498db",
   "metadata": {},
   "outputs": [],
   "source": [
    "# Sort the dataframe by LiftStation and PumpStartTime\n",
    "calc_df = calc_df.sort_values(by=['LiftStation', 'PumpStartTime'])\n",
    "calc_df = calc_df.reset_index(drop=True)"
   ]
  },
  {
   "cell_type": "code",
   "execution_count": 41,
   "id": "1e7d7d63",
   "metadata": {},
   "outputs": [],
   "source": [
    "start_list = []\n",
    "stop_list = []\n",
    "lift_station = []\n",
    "index = 0\n",
    "\n",
    "for index, row in calc_df.iterrows():\n",
    "    if len(stop_list) == 0:\n",
    "        stop_list.append(row['StopUnix'])\n",
    "        lift_station.append(row['LiftStation'])\n",
    "        index += 1\n",
    "\n",
    "    if len(stop_list) == 1 and lift_station[-1] == row['LiftStation']:\n",
    "        start_list.append(row['StartUnix'])\n",
    "        result = (start_list[0] - stop_list[0]) * 60\n",
    "        calc_df.at[index, 'Time_to_Fill'] = result\n",
    "        del stop_list[0]\n",
    "        del start_list[0]\n",
    "        stop_list.append(row['StopUnix'])\n",
    "        index += 1\n",
    "        \n",
    "    else:\n",
    "        del stop_list[0]\n",
    "        stop_list.append(row['StopUnix'])\n",
    "        lift_station.append(row['LiftStation'])\n",
    "        index += 1\n",
    "        \n"
   ]
  },
  {
   "cell_type": "code",
   "execution_count": 42,
   "id": "51264c14",
   "metadata": {},
   "outputs": [],
   "source": [
    "for index, row in calc_df.iterrows():\n",
    "    if row['Time_to_Fill'] < 0:\n",
    "        result = 0\n",
    "        calc_df.at[index, 'Time_to_Fill'] = result"
   ]
  },
  {
   "cell_type": "code",
   "execution_count": 43,
   "id": "d20733ad",
   "metadata": {},
   "outputs": [
    {
     "data": {
      "text/plain": [
       "Series([], Name: Time_to_Fill, dtype: float64)"
      ]
     },
     "execution_count": 43,
     "metadata": {},
     "output_type": "execute_result"
    }
   ],
   "source": [
    "negative_values = calc_df.loc[calc_df['Time_to_Fill'] < 0, 'Time_to_Fill']\n",
    "negative_values"
   ]
  },
  {
   "cell_type": "markdown",
   "id": "b7cd2c1d",
   "metadata": {},
   "source": [
    "## Calculate Inflow and Average Inflow"
   ]
  },
  {
   "cell_type": "code",
   "execution_count": 45,
   "id": "6c18691b",
   "metadata": {},
   "outputs": [],
   "source": [
    "calc_df['Inflow'] = float()\n",
    "calc_df['Avg_Inflow'] = float()"
   ]
  },
  {
   "cell_type": "code",
   "execution_count": 46,
   "id": "345dbf3c",
   "metadata": {},
   "outputs": [],
   "source": [
    "for index, row in calc_df.iterrows():\n",
    "    if row['Time_to_Fill'] != 0:\n",
    "        inflow = row['volume_per_foot'] * row['Elevation_dif'] / row['Time_to_Fill']\n",
    "        calc_df.at[index, 'Inflow'] = inflow\n",
    "    else:\n",
    "        pass"
   ]
  },
  {
   "cell_type": "code",
   "execution_count": 47,
   "id": "87861798",
   "metadata": {},
   "outputs": [],
   "source": [
    "sum_dict ={}\n",
    "count_dict ={}\n",
    "\n",
    "for index, row in legend.iterrows():\n",
    "    result = 0\n",
    "    tag = row['Lift Station']\n",
    "    sum_dict[tag] = result\n",
    "    count_dict[tag] = result\n",
    "    \n",
    "for index, row in calc_df.iterrows():\n",
    "    tag = row['LiftStation']\n",
    "    sum_dict[tag] += row['Inflow']\n",
    "    count_dict[tag] += 1\n",
    "    calc_df.at[index, 'Avg_Inflow'] = sum_dict[tag] / count_dict[tag]\n"
   ]
  },
  {
   "cell_type": "code",
   "execution_count": 52,
   "id": "59095001",
   "metadata": {},
   "outputs": [],
   "source": [
    "#calc_df.head(10)"
   ]
  },
  {
   "cell_type": "markdown",
   "id": "80916580",
   "metadata": {},
   "source": [
    "# Section 5"
   ]
  },
  {
   "cell_type": "markdown",
   "id": "84863018",
   "metadata": {},
   "source": [
    "In this section, I will calculate the actual pump flow rate in GPM, the average flow rate per pump in GPM, and the average pump flow rate in GPM.\n",
    "\n",
    "Actual pump flow rate - To calculate the actual pump flow rate for each row in calc_df, I simply take the row's observed pumping flow rate value we calculated earlier, and add the row's inflow value.\n",
    "\n",
    "Average flow rate per pump - To calculate the average flow rate per pump I add the values in the actual pump flow rate column for each pump, and then divide that sum by the count of values for that pump. So if I iterate over 4 rows of the calc_df, and pump 1 has 3 out of the 4 rows with an actual pump flow rate of 100, 120, and 100, the formula will sum these three rows (320) and divide by the number of rows that were related to pump 1 (3). The average flow rate per pump 1 in row 4 would be 106.\n",
    "\n",
    "Average pump flow rate - to calculate this value I simply add all the actual pump flow rates for both pumps and divide the sum by the count of rows I have iterated over. For example, if I have iterated over 4 rows, and 2 of the rows are pump 1 and 2 are pump 2, I'll add up the values from both pumps (100,110,100,120) and divide the sum by 4 to calculate the average pump flow rate in GPM of 107.5."
   ]
  },
  {
   "cell_type": "markdown",
   "id": "4c046d18",
   "metadata": {},
   "source": [
    "## Calculate Actual Pump Flow Rate (GPM)"
   ]
  },
  {
   "cell_type": "code",
   "execution_count": 49,
   "id": "d744d7f0",
   "metadata": {},
   "outputs": [],
   "source": [
    "calc_df['Actual_Pump_Flow_Rate'] = float()"
   ]
  },
  {
   "cell_type": "code",
   "execution_count": 50,
   "id": "83a52b23",
   "metadata": {},
   "outputs": [],
   "source": [
    "for index, row in calc_df.iterrows():\n",
    "    result = round(row['observed_pumping_flow_rate'] + row['Inflow'])\n",
    "    calc_df.at[index, 'Actual_Pump_Flow_Rate'] = result"
   ]
  },
  {
   "cell_type": "markdown",
   "id": "b70e2ea6",
   "metadata": {},
   "source": [
    "## Finally Let's calculate our Average Flow Rate Per Pump and the Average Pump Flow Rate in (GPM)"
   ]
  },
  {
   "cell_type": "code",
   "execution_count": 58,
   "id": "074843d0",
   "metadata": {},
   "outputs": [],
   "source": [
    "calc_df['Average_Pump_1_Flow_Rate'] = int()\n",
    "calc_df['Average_Pump_2_Flow_Rate'] = int()\n",
    "calc_df['Average_Pump_3_Flow_Rate'] = int()\n",
    "calc_df['Average_Pump_4_Flow_Rate'] = int()\n",
    "calc_df['Average_Pump_Flow_Rate(all)'] = int()"
   ]
  },
  {
   "cell_type": "code",
   "execution_count": 55,
   "id": "37231454",
   "metadata": {},
   "outputs": [],
   "source": [
    "cum_sum = 0\n",
    "count = 0\n",
    "\n",
    "for index, row in calc_df.iterrows():\n",
    "    if row['Pump_num'] == 974:\n",
    "        cum_sum += row['Actual_Pump_Flow_Rate']\n",
    "        count += 1\n",
    "        calc_df.at[index,'Average_Pump_1_Flow_Rate'] = cum_sum / count"
   ]
  },
  {
   "cell_type": "code",
   "execution_count": 56,
   "id": "513e8b27",
   "metadata": {},
   "outputs": [],
   "source": [
    "cum_sum = 0\n",
    "count = 0\n",
    "\n",
    "for index, row in calc_df.iterrows():\n",
    "    if row['Pump_num'] == 975:\n",
    "        cum_sum += row['Actual_Pump_Flow_Rate']\n",
    "        count += 1\n",
    "        calc_df.at[index,'Average_Pump_2_Flow_Rate'] = cum_sum / count"
   ]
  },
  {
   "cell_type": "code",
   "execution_count": 57,
   "id": "6e3e12b3",
   "metadata": {},
   "outputs": [],
   "source": [
    "cum_sum = 0\n",
    "count = 0\n",
    "\n",
    "for index, row in calc_df.iterrows():\n",
    "    cum_sum += row['Actual_Pump_Flow_Rate']\n",
    "    count += 1\n",
    "    calc_df.at[index,'Average_Pump_Flow_Rate(1&2)'] = cum_sum / count"
   ]
  },
  {
   "cell_type": "code",
   "execution_count": 44,
   "id": "41b5e077",
   "metadata": {
    "scrolled": true
   },
   "outputs": [],
   "source": [
    "#calc_df"
   ]
  },
  {
   "cell_type": "markdown",
   "id": "66c13c2f",
   "metadata": {},
   "source": [
    "## Export the data to CSV"
   ]
  },
  {
   "cell_type": "code",
   "execution_count": 39,
   "id": "941c7ddb",
   "metadata": {},
   "outputs": [],
   "source": [
    "calc_df.to_csv(\"Model Data for Kelly Lift Station.csv\")"
   ]
  },
  {
   "cell_type": "code",
   "execution_count": null,
   "id": "58369281",
   "metadata": {},
   "outputs": [],
   "source": []
  }
 ],
 "metadata": {
  "kernelspec": {
   "display_name": "Python 3 (ipykernel)",
   "language": "python",
   "name": "python3"
  },
  "language_info": {
   "codemirror_mode": {
    "name": "ipython",
    "version": 3
   },
   "file_extension": ".py",
   "mimetype": "text/x-python",
   "name": "python",
   "nbconvert_exporter": "python",
   "pygments_lexer": "ipython3",
   "version": "3.9.13"
  }
 },
 "nbformat": 4,
 "nbformat_minor": 5
}
