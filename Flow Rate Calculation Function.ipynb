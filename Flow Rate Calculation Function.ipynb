{
 "cells": [
  {
   "cell_type": "markdown",
   "id": "d72d653f",
   "metadata": {},
   "source": [
    "# SCADA Flow Rate Calculation Model"
   ]
  },
  {
   "cell_type": "code",
   "execution_count": 10,
   "id": "5e52dc9b",
   "metadata": {},
   "outputs": [],
   "source": [
    "import pandas as pd\n",
    "import os\n",
    "import csv\n",
    "\n",
    "import re\n",
    "import datetime\n",
    "import io\n",
    "from zipfile import ZipFile\n",
    "\n",
    "import pandas as pd\n",
    "import numpy as np\n",
    "import pandas_gbq\n",
    "import janitor"
   ]
  },
  {
   "cell_type": "markdown",
   "id": "9136e846",
   "metadata": {},
   "source": [
    "# Step 1: Load Scada Data"
   ]
  },
  {
   "cell_type": "markdown",
   "id": "5e3197e8",
   "metadata": {},
   "source": [
    "Instructions\n",
    "\n",
    "1. Paste the name of the csv file into the df = pd.read_csv('') line. Make sure to put the file name between the quotes. Each lift station name will have to be pasted individually into this line. \n",
    "\n",
    "IMPORTANT: Run all the lines below this instruction box including the function before entering in the next lift station file in the df = pd.read_csv('') statement. The program needs to run in it's entirety for each individual file.\n",
    "\n",
    "2. Once you have read in 1 individual file, run the following lines simply by clicking shift enter on each line. Stop when you reach the Lift Station Specifics heading."
   ]
  },
  {
   "cell_type": "markdown",
   "id": "7b595c14",
   "metadata": {},
   "source": [
    "## Read in SCADA Lifstation Data to a Dataframe"
   ]
  },
  {
   "cell_type": "code",
   "execution_count": 11,
   "id": "ad5d3267",
   "metadata": {},
   "outputs": [
    {
     "name": "stderr",
     "output_type": "stream",
     "text": [
      "/var/folders/2x/4hk6jhf96_q696_2h9d_fstw0000gp/T/ipykernel_9174/3875305116.py:1: DtypeWarning: Columns (6,7) have mixed types. Specify dtype option on import or set low_memory=False.\n",
      "  df = pd.read_csv('Kelly Island Data Edited.csv')\n"
     ]
    }
   ],
   "source": [
    "df = pd.read_csv('Kelly Island Data Edited.csv')"
   ]
  },
  {
   "cell_type": "markdown",
   "id": "4d099a59",
   "metadata": {},
   "source": [
    "## Convert the DateAndTime column to Datetime Format"
   ]
  },
  {
   "cell_type": "code",
   "execution_count": 12,
   "id": "8f310725",
   "metadata": {},
   "outputs": [],
   "source": [
    "df['DateAndTime'] = pd.to_datetime(df['DateAndTime'], format=\"%m/%d/%Y %H:%M:%S.%f\", errors = 'coerce')\n"
   ]
  },
  {
   "cell_type": "markdown",
   "id": "da1c6a82",
   "metadata": {},
   "source": [
    "## Format the dataframe"
   ]
  },
  {
   "cell_type": "code",
   "execution_count": 13,
   "id": "9ee4a303",
   "metadata": {},
   "outputs": [],
   "source": [
    "df.drop('Status', axis=1, inplace=True)\n",
    "df.drop('Marker', axis=1, inplace=True)\n",
    "df.drop('Unnamed: 6', axis=1, inplace=True)\n",
    "df.drop('Unnamed: 7', axis=1, inplace=True)"
   ]
  },
  {
   "cell_type": "code",
   "execution_count": 14,
   "id": "bb74c6c0",
   "metadata": {},
   "outputs": [],
   "source": [
    "df = df.dropna()"
   ]
  },
  {
   "cell_type": "code",
   "execution_count": 15,
   "id": "61684fef",
   "metadata": {},
   "outputs": [],
   "source": [
    "#df.head(20)"
   ]
  },
  {
   "cell_type": "markdown",
   "id": "bf7f4fde",
   "metadata": {},
   "source": [
    "## Remove Extraneous 1's and 0's"
   ]
  },
  {
   "cell_type": "code",
   "execution_count": 16,
   "id": "7a091c6b",
   "metadata": {},
   "outputs": [],
   "source": [
    "# first remove 0's with the same timestamp right next to each other\n",
    "\n",
    "for i in reversed(range(1, len(df))):\n",
    "    if df.loc[i, 'Val'] == 0 and df.loc[i-1, 'Val'] == 0 and df.loc[i, 'DateAndTime'] == df.loc[i-1, 'DateAndTime']:\n",
    "        # drop both rows if conditions are met\n",
    "        df = df.drop([i, i-1]).reset_index(drop=True)\n",
    "    "
   ]
  },
  {
   "cell_type": "markdown",
   "id": "9df3e2d3",
   "metadata": {},
   "source": [
    "## Set up our Calculated Dataframe "
   ]
  },
  {
   "cell_type": "code",
   "execution_count": 17,
   "id": "fdd11df4",
   "metadata": {},
   "outputs": [],
   "source": [
    "calc_df = pd.DataFrame()\n",
    "calc_df['LiftStationID'] = ()\n",
    "calc_df['StartDateAndTime'] = ()\n",
    "calc_df['EndDateAndTime'] = ()\n",
    "calc_df['StartUnix'] = float()\n",
    "calc_df['EndUnix'] = float()\n",
    "calc_df['Time_diff'] = ()\n",
    "calc_df['Pump_num'] = ()\n",
    "calc_df['Elevation_dif'] = ()\n",
    "calc_df['volume_per_foot'] = ()\n",
    "calc_df['observed_pumping_flow_rate'] = int()\n",
    "calc_df['avg_flow_rate_pump'] = int()\n",
    "calc_df['average_observed_pumping_flow_rate'] = int()\n",
    "calc_df['Time_to_Fill'] = float()\n",
    "calc_df['Inflow'] = float()\n",
    "calc_df['Avg_Inflow'] = float()\n",
    "calc_df['Actual_Pump_Flow_Rate'] = float()\n",
    "calc_df['Average_Pump_1_Flow_Rate'] = int()\n",
    "calc_df['Average_Pump_2_Flow_Rate'] = int()\n",
    "calc_df['Average_Pump_Flow_Rate(1&2)'] = int()"
   ]
  },
  {
   "cell_type": "markdown",
   "id": "37a769d2",
   "metadata": {},
   "source": [
    "# Step 2: Lift Station Specifics"
   ]
  },
  {
   "cell_type": "markdown",
   "id": "4de0c533",
   "metadata": {},
   "source": [
    "### Below are the specific figures for each lift station's wet well diameter and elevation difference. You will need to choose the corresponding diameter and elevation difference for the specific lift station data you read into the program in step 1."
   ]
  },
  {
   "cell_type": "markdown",
   "id": "993b4fc7",
   "metadata": {
    "scrolled": true
   },
   "source": [
    "| **Lift Station** | **liftID** | **wet well diameter** | **elevation difference** | **pump num.** |\n",
    "|:----------------:|:----------:|:--------------------:|:------------------------:|:-------------:|\n",
    "|   Bueno Vista    |     BV     |           5          |             -            |       2       |\n",
    "|  Canyon River    |     CR     |           5          |             -            |       2       |\n",
    "|   Caras Park     |     CP     |           10         |             -            |       2       |\n",
    "|Community Hospital|     CH     |           8          |             -            |       2       |\n",
    "| Dickens Street   |     DS     |           5          |             -            |       2       |\n",
    "|  East Broadway   |     EB     |           8          |             -            |       2       |\n",
    "|  East Missoula   |     EM     |           8          |             -            |       2       |\n",
    "|     Futurity     |     FT     |           8          |             -            |       2       |\n",
    "|   Kelly Island   |     KI     |           8          |             -            |       2       |\n",
    "|Linda Vista GC    |     LVG    |          8 (check)   |             -            |       2       |\n",
    "| Linda Vista LS   |     LGL    |          8 (check)   |             -            |       2       |\n",
    "|      Mastad      |     MD     |           8          |             -            |       2       |\n",
    "|Lower Miller Creek|     LMC    |           8          |             -            |       4       |\n",
    "|    Momont #1     |     MT1    |           6          |             -            |       2       |\n",
    "|    Momont #2     |     MT2    |           6          |             -            |       2       |\n",
    "| Reserve Street   |     RS     |          12          |             -            |       4       |\n",
    "|  Stratford 2662  |     SF     |            -         |             -            |       -       |\n",
    "|   Third Street   |     TS     |           8          |             -            |       2       |\n",
    "|    University    |     UT     |           7          |             -            |       2       |\n",
    "|       Waldo      |     WD     |           8          |             -            |       2       |\n",
    "\n"
   ]
  },
  {
   "cell_type": "markdown",
   "id": "e3139ed5",
   "metadata": {},
   "source": [
    "# Step 3: Choosing Lift Station Specifics"
   ]
  },
  {
   "cell_type": "markdown",
   "id": "8679fda0",
   "metadata": {},
   "source": [
    "At this point the SCADA file is formatted and loaded into our program. Now let's run the Flow Rate Function to create our new dataframe with the flow rates calculated.\n",
    "\n",
    "1. Locate the specific lift station in the Lift Station Specifics table above. \n",
    "\n",
    "2. You will need Lifstation ID, Wet Well Diameter, and Elevation Difference values for your specific lift station."
   ]
  },
  {
   "cell_type": "markdown",
   "id": "c4bf59d5",
   "metadata": {},
   "source": [
    "# Flow Rate Function"
   ]
  },
  {
   "cell_type": "code",
   "execution_count": 18,
   "id": "fb0322f8",
   "metadata": {},
   "outputs": [],
   "source": [
    "def flow_rate_function (df, liftstation_id, well_diameter, elev_diff):\n",
    "    \n",
    "    calc_df = pd.DataFrame()\n",
    "    calc_df['LiftStationID'] = ()\n",
    "    calc_df['StartDateAndTime'] = ()\n",
    "    calc_df['EndDateAndTime'] = ()\n",
    "    calc_df['StartUnix'] = float()\n",
    "    calc_df['EndUnix'] = float()\n",
    "    calc_df['Time_diff'] = ()\n",
    "    calc_df['Pump_num'] = ()\n",
    "    calc_df['Elevation_dif'] = ()\n",
    "    calc_df['volume_per_foot'] = ()\n",
    "    calc_df['observed_pumping_flow_rate'] = int()\n",
    "    calc_df['avg_flow_rate_pump'] = int()\n",
    "    calc_df['average_observed_pumping_flow_rate'] = int()\n",
    "    calc_df['Time_to_Fill'] = float()\n",
    "    calc_df['Inflow'] = float()\n",
    "    calc_df['Avg_Inflow'] = float()\n",
    "    calc_df['Actual_Pump_Flow_Rate'] = float()\n",
    "    calc_df['Average_Pump_1_Flow_Rate'] = int()\n",
    "    calc_df['Average_Pump_2_Flow_Rate'] = int()\n",
    "    calc_df['Average_Pump_Flow_Rate(1&2)'] = int()\n",
    "    \n",
    "    \n",
    "    #Here let's fill calc_df with On and Off times + Pump Numbers\n",
    "    \n",
    "    has_date = False\n",
    "    last_index = -1\n",
    "    on = 1\n",
    "    off = 0\n",
    "\n",
    "    for index, row in df.iterrows():\n",
    "        if row['Val'] == 1:\n",
    "            tag = row['TagIndex']\n",
    "            calc_df = calc_df.append({'StartDateAndTime': row['DateAndTime']}, ignore_index=True)\n",
    "            last_index += 1\n",
    "            calc_df.at[last_index, 'Pump_num'] = tag\n",
    "            has_date = True\n",
    "\n",
    "        if row['Val'] == 0 and has_date:\n",
    "            tag = row['TagIndex']\n",
    "            calc_df.at[last_index, 'EndDateAndTime'] = row['DateAndTime']\n",
    "            calc_df.at[last_index, 'Pump_num'] = tag\n",
    "    \n",
    "    calc_df['EndDateAndTime'] = pd.to_datetime(calc_df['EndDateAndTime'])\n",
    "    \n",
    "    #Let's delete any rows that don't have either a start or end time\n",
    "    calc_df = calc_df.dropna(subset=['StartDateAndTime', 'EndDateAndTime'])\n",
    "    # reset the index\n",
    "    calc_df = calc_df.reset_index(drop=True)\n",
    "    \n",
    "    #delete any rows that have erronious pump numbers\n",
    "    calc_df = calc_df[(calc_df['Pump_num'] == 974) | (calc_df['Pump_num'] == 975)]\n",
    "    calc_df = calc_df.reset_index(drop=True)\n",
    "    \n",
    "    #Now let's get Unix time for each timestamp\n",
    "    calc_df['StartUnix'] = pd.to_datetime(calc_df['StartDateAndTime']).astype(int)/ 10**9\n",
    "    calc_df['EndUnix'] = pd.to_datetime(calc_df['EndDateAndTime']).astype(int) / 10**9\n",
    "\n",
    "    #Calculating the time difference between Pumps turning on and off\n",
    "    for index,row in calc_df.iterrows():\n",
    "        result = (row['EndUnix']- row['StartUnix'])/60\n",
    "        calc_df.at[index, 'Time_diff'] = result\n",
    "\n",
    "    #Add in elevation difference\n",
    "    calc_df['Elevation_dif'] = elev_diff\n",
    "    #Calculate volume per foot\n",
    "\n",
    "    vol_per_foot = ((well_diameter*well_diameter) * 3.14)/4*7.48\n",
    "    vol_per_foot = round(vol_per_foot)\n",
    "    calc_df['volume_per_foot'] = vol_per_foot\n",
    "\n",
    "    #Now let's calculate our observed pumping Flow Rate\n",
    "    for index, row in calc_df.iterrows():\n",
    "        result = round((row['Elevation_dif'] * row['volume_per_foot'])/row['Time_diff'])\n",
    "        calc_df.at[index,'observed_pumping_flow_rate'] = result\n",
    "\n",
    "    #Now Calculate Average Flow Rate Per Pump\n",
    "    cum_sum_1 =0\n",
    "    cum_sum_2 =0\n",
    "    count_1 =0\n",
    "    count_2 =0\n",
    "\n",
    "    for index, row in calc_df.iterrows():\n",
    "        if row['Pump_num'] == 975:\n",
    "            cum_sum_1 += row['observed_pumping_flow_rate']\n",
    "            count_1 += 1\n",
    "            calc_df.at[index, 'avg_flow_rate_pump'] = cum_sum_1 / count_1\n",
    "        if row['Pump_num'] == 974:\n",
    "            cum_sum_2 += row['observed_pumping_flow_rate']\n",
    "            count_2 += 1\n",
    "            calc_df.at[index, 'avg_flow_rate_pump'] = cum_sum_2 / count_2\n",
    "\n",
    "    #Calculate average observed pumping flow rate (GPM)\n",
    "    cum_sum = 0\n",
    "    count = 0\n",
    "\n",
    "    for index, row in calc_df.iterrows():\n",
    "        cum_sum += row['avg_flow_rate_pump']\n",
    "        count += 1\n",
    "        calc_df.at[index, 'average_observed_pumping_flow_rate'] = cum_sum / count\n",
    "\n",
    "    #Calculate time to fill\n",
    "    #Get a list of timestamps when the pump turned off\n",
    "    stop_list= []\n",
    "\n",
    "    for index, row in calc_df.iterrows():\n",
    "        stop = row['EndUnix']\n",
    "        stop_list.append(stop)\n",
    "\n",
    "    #Get a list of timestamps when the pump turned on    \n",
    "    start_list = []\n",
    "\n",
    "    for index, row in calc_df.iloc[1:].iterrows():\n",
    "        start = row['StartUnix']\n",
    "        start_list.append(start)\n",
    "        \n",
    "    #calculate the difference between the start and end time\n",
    "    index = 1\n",
    "\n",
    "    for start, end in zip(start_list, stop_list):\n",
    "        result = (start - end) /60\n",
    "        #print(result)\n",
    "        calc_df.at[index, 'Time_to_Fill'] = result\n",
    "        index += 1\n",
    "        \n",
    "    #Change any NaN's to 0    \n",
    "    calc_df = calc_df.fillna(0)\n",
    "\n",
    "        \n",
    "    #Calculate Inflow\n",
    "    for index, row in calc_df.iterrows():\n",
    "        if row['Time_to_Fill'] != 0:\n",
    "            inflow = row['volume_per_foot'] * row['Elevation_dif'] / row['Time_to_Fill']\n",
    "            calc_df.at[index, 'Inflow'] = inflow\n",
    "        else:\n",
    "            pass\n",
    "        \n",
    "    #Calculate Average Inflow\n",
    "    cum_sum = 0\n",
    "    count = 0\n",
    "\n",
    "    for index, row in calc_df.iterrows():\n",
    "        cum_sum += row['Inflow']\n",
    "        count += 1\n",
    "        calc_df.at[index, 'Avg_Inflow'] = cum_sum / count\n",
    "        \n",
    "    #Calculate Actual Pump Flow Rate (GPM)\n",
    "    for index, row in calc_df.iterrows():\n",
    "        result = round(row['observed_pumping_flow_rate'] + row['Inflow'])\n",
    "        calc_df.at[index, 'Actual_Pump_Flow_Rate'] = result\n",
    "        \n",
    "    #calculate our Average Flow Rate Per Pump\n",
    "    #Pump 1\n",
    "    cum_sum = 0\n",
    "    count = 0\n",
    "\n",
    "    for index, row in calc_df.iterrows():\n",
    "        if row['Pump_num'] == 974:\n",
    "            cum_sum += row['Actual_Pump_Flow_Rate']\n",
    "            count += 1\n",
    "            calc_df.at[index,'Average_Pump_1_Flow_Rate'] = cum_sum / count\n",
    "\n",
    "    #Pump 2\n",
    "    cum_sum = 0\n",
    "    count = 0\n",
    "\n",
    "    for index, row in calc_df.iterrows():\n",
    "        if row['Pump_num'] == 975:\n",
    "            cum_sum += row['Actual_Pump_Flow_Rate']\n",
    "            count += 1\n",
    "            calc_df.at[index,'Average_Pump_2_Flow_Rate'] = cum_sum / count\n",
    "            \n",
    "    #Calculate Average Pump Flow Rate in GPM\n",
    "    cum_sum = 0\n",
    "    count = 0\n",
    "\n",
    "    for index, row in calc_df.iterrows():\n",
    "        cum_sum += row['Actual_Pump_Flow_Rate']\n",
    "        count += 1\n",
    "        calc_df.at[index,'Average_Pump_Flow_Rate(1&2)'] = cum_sum / count\n",
    "   \n",
    "    calc_df['LiftStationID'] = liftstation_id\n",
    "\n",
    "    return(calc_df)\n",
    "\n",
    "\n",
    "\n",
    " \n",
    " "
   ]
  },
  {
   "cell_type": "markdown",
   "id": "5a90fdf0",
   "metadata": {},
   "source": [
    "# Step 4: Running the Function"
   ]
  },
  {
   "cell_type": "markdown",
   "id": "11f25dfd",
   "metadata": {},
   "source": [
    "You are now ready to run the function using the loaded SCADA data, and the lift station specifics from the table above.\n",
    "\n",
    "1. In the Plug In line below, enter the appropriate values for your specific liftstation, into the function.\n",
    "\n",
    "ex: Dickens Street \n",
    "\n",
    "calc_df = calc_df.append(flow_rate_function(df, liftstation_id=\"DS\", well_diameter=5, elev_diff=2.2))\n",
    "\n",
    "IMPORTANT: You only need to change the values for liftstation_id, well_diameter, and elev_diff.\n",
    "\n",
    "2. Once you have updated the values in the function, click shift enter to run. The function will run and append the results to calc_df."
   ]
  },
  {
   "cell_type": "markdown",
   "id": "94c7fb9e",
   "metadata": {},
   "source": [
    "### Plug In"
   ]
  },
  {
   "cell_type": "code",
   "execution_count": 31,
   "id": "c72decd3",
   "metadata": {
    "scrolled": true
   },
   "outputs": [],
   "source": [
    "calc_df = calc_df.append(flow_rate_function(df, liftstation_id=\"BV\", well_diameter=5, elev_diff=2.5))"
   ]
  },
  {
   "cell_type": "code",
   "execution_count": 32,
   "id": "f5d61e9c",
   "metadata": {},
   "outputs": [],
   "source": [
    "#calc_df"
   ]
  },
  {
   "cell_type": "markdown",
   "id": "8c75552e",
   "metadata": {},
   "source": [
    "# Step 5: Re Run or Export "
   ]
  },
  {
   "cell_type": "markdown",
   "id": "52d5e27f",
   "metadata": {},
   "source": [
    "This is an either or step, at this point the function has run for your specific lift station, and the flow rate data is calculated and ready for export for said lift station.\n",
    "\n",
    "IMPORTANT: \n",
    "\n",
    "If you are ready to export your data please follow instructions in section 1.A.\n",
    "\n",
    "If you would like to calculate flow rate data for another lift station and add that data onto the current export please follow instructions in section 1.B.\n",
    "\n",
    "1.A \n",
    "1. To export your calculated flow rate data, run the line below titled export.\n",
    "\n",
    "1.B\n",
    "1. If you want to add another liftstation to your output file, you will need to head back up to step 1.\n",
    "2. Change the file name in the , \"Read in SCADA Lifstation Data to a Dataframe\", line. Remember you only need to change the file name in quotes.\n",
    "3. Continue through steps 1-5 again, repeat as necessary."
   ]
  },
  {
   "cell_type": "markdown",
   "id": "cc3f7228",
   "metadata": {},
   "source": [
    "### Export"
   ]
  },
  {
   "cell_type": "code",
   "execution_count": 30,
   "id": "93abfc09",
   "metadata": {},
   "outputs": [],
   "source": [
    "calc_df.to_csv(\"Model Data for City of Missoula Liftstations.csv\")"
   ]
  }
 ],
 "metadata": {
  "kernelspec": {
   "display_name": "Python 3 (ipykernel)",
   "language": "python",
   "name": "python3"
  },
  "language_info": {
   "codemirror_mode": {
    "name": "ipython",
    "version": 3
   },
   "file_extension": ".py",
   "mimetype": "text/x-python",
   "name": "python",
   "nbconvert_exporter": "python",
   "pygments_lexer": "ipython3",
   "version": "3.9.13"
  }
 },
 "nbformat": 4,
 "nbformat_minor": 5
}
