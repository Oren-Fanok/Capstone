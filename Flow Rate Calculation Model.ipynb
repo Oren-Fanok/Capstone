{
 "cells": [
  {
   "cell_type": "markdown",
   "id": "a3244280",
   "metadata": {},
   "source": [
    "# SCADA Flow Rate Calculation Model"
   ]
  },
  {
   "cell_type": "code",
   "execution_count": 1,
   "id": "581e2200",
   "metadata": {},
   "outputs": [],
   "source": [
    "import pandas as pd\n",
    "import os\n",
    "import csv\n",
    "\n",
    "import re\n",
    "import datetime\n",
    "import io\n",
    "from zipfile import ZipFile\n",
    "\n",
    "import pandas as pd\n",
    "import numpy as np\n",
    "import pandas_gbq\n",
    "import janitor"
   ]
  },
  {
   "cell_type": "markdown",
   "id": "863681c8",
   "metadata": {},
   "source": [
    "# Section 1"
   ]
  },
  {
   "cell_type": "markdown",
   "id": "18d7000d",
   "metadata": {},
   "source": [
    "In this section I read in our sewer SCADA data to a pandas dataframe and do some quick formatting. I'll begin by converting the dateandtime column to datetime format, removing unneeded columns, and dropping any NA values. Finally I will remove erronious 0's. This data contains 1's and 0's in the value column. 1's signal a pump turning on while a 0 signals a pump turning off. The relationship needs to be 1:1, however SCADA inputs erronious zero's into the output every 15 minutes, so I will remove them. Once this process is finished we are ready to begin section 2."
   ]
  },
  {
   "cell_type": "markdown",
   "id": "3ebeae29",
   "metadata": {},
   "source": [
    "## Read SCADA data into Pandas Dataframe"
   ]
  },
  {
   "cell_type": "code",
   "execution_count": 2,
   "id": "ad5d3267",
   "metadata": {},
   "outputs": [],
   "source": [
    "df = pd.read_csv('Kelly Island Data Edited.csv')"
   ]
  },
  {
   "cell_type": "markdown",
   "id": "4d099a59",
   "metadata": {},
   "source": [
    "## Convert the DateAndTime column to Datetime Format"
   ]
  },
  {
   "cell_type": "code",
   "execution_count": 3,
   "id": "8f310725",
   "metadata": {},
   "outputs": [],
   "source": [
    "df['DateAndTime'] = pd.to_datetime(df['DateAndTime'], format=\"%m/%d/%Y %H:%M:%S.%f\", errors = 'coerce')\n"
   ]
  },
  {
   "cell_type": "markdown",
   "id": "da1c6a82",
   "metadata": {},
   "source": [
    "## Format the dataframe"
   ]
  },
  {
   "cell_type": "code",
   "execution_count": 4,
   "id": "9ee4a303",
   "metadata": {},
   "outputs": [],
   "source": [
    "df.drop('Status', axis=1, inplace=True)\n",
    "df.drop('Marker', axis=1, inplace=True)\n",
    "df.drop('Unnamed: 6', axis=1, inplace=True)\n",
    "df.drop('Unnamed: 7', axis=1, inplace=True)"
   ]
  },
  {
   "cell_type": "code",
   "execution_count": 5,
   "id": "bb74c6c0",
   "metadata": {},
   "outputs": [],
   "source": [
    "df = df.dropna()"
   ]
  },
  {
   "cell_type": "code",
   "execution_count": 6,
   "id": "61684fef",
   "metadata": {},
   "outputs": [],
   "source": [
    "#df.head(20)"
   ]
  },
  {
   "cell_type": "markdown",
   "id": "bf7f4fde",
   "metadata": {},
   "source": [
    "## Remove Extraneous 1's and 0's"
   ]
  },
  {
   "cell_type": "code",
   "execution_count": 7,
   "id": "7a091c6b",
   "metadata": {},
   "outputs": [],
   "source": [
    "# first remove 0's with the same timestamp right next to each other\n",
    "\n",
    "for i in reversed(range(1, len(df))):\n",
    "    if df.loc[i, 'Val'] == 0 and df.loc[i-1, 'Val'] == 0 and df.loc[i, 'DateAndTime'] == df.loc[i-1, 'DateAndTime']:\n",
    "        # drop both rows if conditions are met\n",
    "        df = df.drop([i, i-1]).reset_index(drop=True)\n",
    "    "
   ]
  },
  {
   "cell_type": "markdown",
   "id": "eed220ae",
   "metadata": {},
   "source": [
    "# Section 2"
   ]
  },
  {
   "cell_type": "markdown",
   "id": "81237bc8",
   "metadata": {},
   "source": [
    "In this section I will create a new dataframe called calc_df, which will hold all of our data going forward. In section 2 I'll begin by filling the new dataframe with only time stamps containing pumps turning on or off (Val column 1 for on and 0 for off). From there I will convert both on and off timestamps into Unix time and calculate the difference in time between the pump turning on and off. Remove the # in front of any of the calc_df lines to see a preview of the dataframe."
   ]
  },
  {
   "cell_type": "markdown",
   "id": "0a3b4937",
   "metadata": {},
   "source": [
    "## Let's set up our new dataframe"
   ]
  },
  {
   "cell_type": "code",
   "execution_count": 8,
   "id": "79063260",
   "metadata": {},
   "outputs": [],
   "source": [
    "calc_df = pd.DataFrame()\n",
    "calc_df['StartDateAndTime'] = ()\n",
    "calc_df['EndDateAndTime'] = ()\n",
    "calc_df['StartUnix'] = float()\n",
    "calc_df['EndUnix'] = float()\n",
    "calc_df['Time_diff'] = ()\n",
    "calc_df['Pump_num'] = ()"
   ]
  },
  {
   "cell_type": "markdown",
   "id": "a9551be4",
   "metadata": {},
   "source": [
    "## Here let's fill calc_df with On and Off times + Pump Numbers"
   ]
  },
  {
   "cell_type": "code",
   "execution_count": null,
   "id": "2f63449e",
   "metadata": {},
   "outputs": [],
   "source": [
    "has_date = False\n",
    "last_index = -1\n",
    "on = 1\n",
    "off = 0\n",
    "\n",
    "for index, row in df.iterrows():\n",
    "    if row['Val'] == 1:\n",
    "        tag = row['TagIndex']\n",
    "        calc_df = calc_df.append({'StartDateAndTime': row['DateAndTime']}, ignore_index=True)\n",
    "        last_index += 1\n",
    "        calc_df.at[last_index, 'Pump_num'] = tag\n",
    "        #calc_df.at[last_index, 'On/Off'] = on\n",
    "        has_date = True\n",
    "        \n",
    "    if row['Val'] == 0 and has_date:\n",
    "        tag = row['TagIndex']\n",
    "        calc_df.at[last_index, 'EndDateAndTime'] = row['DateAndTime']\n",
    "        calc_df.at[last_index, 'Pump_num'] = tag\n",
    "        #calc_df.at[last_index, 'On/Off'] = off"
   ]
  },
  {
   "cell_type": "code",
   "execution_count": 10,
   "id": "9361ea7a",
   "metadata": {
    "scrolled": true
   },
   "outputs": [],
   "source": [
    "calc_df['EndDateAndTime'] = pd.to_datetime(calc_df['EndDateAndTime'])\n",
    "\n",
    "#calc_df.head(20)"
   ]
  },
  {
   "cell_type": "markdown",
   "id": "86052678",
   "metadata": {},
   "source": [
    "## Let's delete any rows that don't have either a start or end time"
   ]
  },
  {
   "cell_type": "code",
   "execution_count": 11,
   "id": "cac12c30",
   "metadata": {},
   "outputs": [],
   "source": [
    "calc_df = calc_df.dropna(subset=['StartDateAndTime', 'EndDateAndTime'])\n",
    "\n",
    "# reset the index\n",
    "calc_df = calc_df.reset_index(drop=True)\n"
   ]
  },
  {
   "cell_type": "code",
   "execution_count": 13,
   "id": "aa5505e2",
   "metadata": {},
   "outputs": [],
   "source": [
    "#calc_df.head(20)"
   ]
  },
  {
   "cell_type": "markdown",
   "id": "fff44f32",
   "metadata": {},
   "source": [
    "## Now let's get Unix time for each timestamp"
   ]
  },
  {
   "cell_type": "code",
   "execution_count": 14,
   "id": "a59bb07a",
   "metadata": {},
   "outputs": [],
   "source": [
    "calc_df['StartUnix'] = pd.to_datetime(calc_df['StartDateAndTime']).astype(int)/ 10**9\n",
    "calc_df['EndUnix'] = pd.to_datetime(calc_df['EndDateAndTime']).astype(int) / 10**9"
   ]
  },
  {
   "cell_type": "code",
   "execution_count": 15,
   "id": "32bae088",
   "metadata": {
    "scrolled": true
   },
   "outputs": [],
   "source": [
    "#calc_df.head(20)"
   ]
  },
  {
   "cell_type": "markdown",
   "id": "96f07258",
   "metadata": {},
   "source": [
    "## Calculating the time difference between Pumps turning on and off"
   ]
  },
  {
   "cell_type": "code",
   "execution_count": 16,
   "id": "be7f8e85",
   "metadata": {},
   "outputs": [],
   "source": [
    "for index,row in calc_df.iterrows():\n",
    "    result = (row['EndUnix']- row['StartUnix'])/60\n",
    "    calc_df.at[index, 'Time_diff'] = result"
   ]
  },
  {
   "cell_type": "code",
   "execution_count": 17,
   "id": "55696553",
   "metadata": {},
   "outputs": [],
   "source": [
    "#calc_df"
   ]
  },
  {
   "cell_type": "markdown",
   "id": "3dbd7248",
   "metadata": {},
   "source": [
    "# Section 3"
   ]
  },
  {
   "cell_type": "markdown",
   "id": "e886d6a9",
   "metadata": {},
   "source": [
    "In section 3 I will add elevation difference, volume per foot, observed pumping flow rate, average flow rate per pump, and average observed pumping flow rate (gpm).\n",
    "\n",
    "Elevation Diference - This value can be changed for the desired lift station. Please note that each lift station will have a different elevation level. To change the elevation for a different lift station, simply change the 2.2 in the first cell below.\n",
    "\n",
    "Observed pumping flow rate - To calculate this value we first need to input the wetwell's diameter, again this value will differ per each lift station. Simply change the diameter in the diam_well = (5) statement to the desired value. From there the vol_per_foot calculation will update and be added to the calc_df. Now we have all the information in the calc_df to calculate observed pumping flow rate. I'll take the elevation difference value times the volume per foot value, and divide the result by our time difference. The resulting value will be added to the calc_df in the observed pumping flow rate column.\n",
    "\n",
    "Average flow rate per pump - Average flow rate per pump is calculated by adding the values in the observed pumping flow rate column for each individual pump, and then dividing that sum by the count of values for that pump. So if I iterate for 4 rows of the calc_df, and pump 1 has 3 out of the 4 rows with an observed pumping flow rate of 100, 120, and 100, the formula will sum these three rows (320) and divide by the amount of rows that were related to pump 1 (3). The average flow rate per pump 1 in row 4 would be 106.\n",
    "\n",
    "Average observed pumping flow rate (gpm) - to calculate this value I simply add all the average flow rates for both pumps and divide the sum by the count of rows I have iterated over. For example if I have iterated over 4 rows, and 2 of the rows are pump 1 and 2 are pump 2, i'll add up the values from both pumps (100,110,100,120) and divide the sum by 4 to calculate the average observed pumping flow rate in GPM of 107.5.\n"
   ]
  },
  {
   "cell_type": "markdown",
   "id": "ec48733e",
   "metadata": {},
   "source": [
    "## Add in Elevation Difference"
   ]
  },
  {
   "cell_type": "code",
   "execution_count": 18,
   "id": "a9fc39bb",
   "metadata": {},
   "outputs": [],
   "source": [
    "calc_df['Elevation_dif'] = 2.2"
   ]
  },
  {
   "cell_type": "code",
   "execution_count": 19,
   "id": "29095401",
   "metadata": {
    "scrolled": true
   },
   "outputs": [],
   "source": [
    "#calc_df"
   ]
  },
  {
   "cell_type": "markdown",
   "id": "599de884",
   "metadata": {},
   "source": [
    "## Calculate Observed Pumping Flow Rate"
   ]
  },
  {
   "cell_type": "markdown",
   "id": "adf50982",
   "metadata": {},
   "source": [
    "### First Lets get the volume per foot for our well"
   ]
  },
  {
   "cell_type": "code",
   "execution_count": 20,
   "id": "b935508d",
   "metadata": {},
   "outputs": [],
   "source": [
    "#Plug in diameter of wet well in ft.\n",
    "\n",
    "diam_well = 5\n",
    "\n",
    "\n",
    "#Calculate volume per foot\n",
    "\n",
    "vol_per_foot = ((diam_well*diam_well) * 3.14)/4*7.48\n",
    "vol_per_foot = round(vol_per_foot)"
   ]
  },
  {
   "cell_type": "code",
   "execution_count": 21,
   "id": "3568e449",
   "metadata": {},
   "outputs": [],
   "source": [
    "calc_df['volume_per_foot'] = vol_per_foot"
   ]
  },
  {
   "cell_type": "code",
   "execution_count": 22,
   "id": "2f5243d9",
   "metadata": {},
   "outputs": [],
   "source": [
    "#calc_df"
   ]
  },
  {
   "cell_type": "markdown",
   "id": "bee9c131",
   "metadata": {},
   "source": [
    "## Now let's calculate our observed pumping Flow Rate"
   ]
  },
  {
   "cell_type": "code",
   "execution_count": 23,
   "id": "3d40720d",
   "metadata": {},
   "outputs": [],
   "source": [
    "calc_df['observed_pumping_flow_rate'] = int()"
   ]
  },
  {
   "cell_type": "code",
   "execution_count": 24,
   "id": "c3a6b203",
   "metadata": {},
   "outputs": [],
   "source": [
    "for index, row in calc_df.iterrows():\n",
    "    result = round((row['Elevation_dif'] * row['volume_per_foot'])/row['Time_diff'])\n",
    "    calc_df.at[index,'observed_pumping_flow_rate'] = result"
   ]
  },
  {
   "cell_type": "code",
   "execution_count": 25,
   "id": "90bf5687",
   "metadata": {},
   "outputs": [],
   "source": [
    "#calc_df"
   ]
  },
  {
   "cell_type": "markdown",
   "id": "84052158",
   "metadata": {},
   "source": [
    "## Now Let's Calculate Average Flow Rate Per Pump"
   ]
  },
  {
   "cell_type": "code",
   "execution_count": 26,
   "id": "ca25d41f",
   "metadata": {},
   "outputs": [],
   "source": [
    "calc_df['avg_flow_rate_pump'] = int()"
   ]
  },
  {
   "cell_type": "code",
   "execution_count": 27,
   "id": "c2a0d807",
   "metadata": {},
   "outputs": [],
   "source": [
    "cum_sum_1 =0\n",
    "cum_sum_2 =0\n",
    "count_1 =0\n",
    "count_2 =0\n",
    "\n",
    "for index, row in calc_df.iterrows():\n",
    "    if row['Pump_num'] == 975:\n",
    "        cum_sum_1 += row['observed_pumping_flow_rate']\n",
    "        count_1 += 1\n",
    "        calc_df.at[index, 'avg_flow_rate_pump'] = cum_sum_1 / count_1\n",
    "    if row['Pump_num'] == 974:\n",
    "        cum_sum_2 += row['observed_pumping_flow_rate']\n",
    "        count_2 += 1\n",
    "        calc_df.at[index, 'avg_flow_rate_pump'] = cum_sum_2 / count_2\n",
    "    "
   ]
  },
  {
   "cell_type": "code",
   "execution_count": 28,
   "id": "f05a5094",
   "metadata": {},
   "outputs": [],
   "source": [
    "#calc_df"
   ]
  },
  {
   "cell_type": "markdown",
   "id": "01004188",
   "metadata": {},
   "source": [
    "## Finally Let's calculate our Average Observed Pumping Flow Rate (gpm)"
   ]
  },
  {
   "cell_type": "code",
   "execution_count": 29,
   "id": "7fd5edca",
   "metadata": {},
   "outputs": [],
   "source": [
    "calc_df['average_observed_pumping_flow_rate'] = int()"
   ]
  },
  {
   "cell_type": "code",
   "execution_count": 30,
   "id": "56adba27",
   "metadata": {},
   "outputs": [],
   "source": [
    "cum_sum = 0\n",
    "count = 0\n",
    "\n",
    "for index, row in calc_df.iterrows():\n",
    "    cum_sum += row['avg_flow_rate_pump']\n",
    "    count += 1\n",
    "    calc_df.at[index, 'average_observed_pumping_flow_rate'] = cum_sum / count\n"
   ]
  },
  {
   "cell_type": "code",
   "execution_count": 31,
   "id": "f6076245",
   "metadata": {},
   "outputs": [],
   "source": [
    "#calc_df.head(20)"
   ]
  },
  {
   "cell_type": "markdown",
   "id": "4aa7e42a",
   "metadata": {},
   "source": [
    "# Section 4"
   ]
  },
  {
   "cell_type": "markdown",
   "id": "ee1923ba",
   "metadata": {},
   "source": [
    "In this section I will calculate the time to fill, inflow, and average inflow. These values need to be accounted for when calculating flow rate, as even when the pumps are turned on within a wet well and the level is dropping, water is still flowing through the pipes into the well.\n",
    "\n",
    "Time to fill - To calculate time to fill for each row in calc_df I take the stop unix time of the first row within calc_df (when the pump turned off) and subtract this value from the start unix time off the next row (when the pump turned back on). The difference between the pump turning off and the next pump turning on is my time to fill measure.\n",
    "\n",
    "Inflow - To calculate my inflow value for each row in calc_df, I take the row's volume per foot value and multiply by the row's elevation difference value. I then divide that result by the row's time to fill value we just calculated.\n",
    "\n",
    "Average Inflow - To calculate my average inflow for each row in calc_df, I simply add all the values for inflow in the row's I have iterated over and divide by the count of those rows. So if I have iterated over 4 rows so far in calc_df and the inflow values are (60,40,20,60) I sum these values and divide by four to get my average inflow value in row 4, 45."
   ]
  },
  {
   "cell_type": "markdown",
   "id": "33fba61d",
   "metadata": {},
   "source": [
    "## Calculate time to fill"
   ]
  },
  {
   "cell_type": "code",
   "execution_count": 32,
   "id": "f7de90e1",
   "metadata": {},
   "outputs": [],
   "source": [
    "calc_df['Time_to_Fill'] = float()"
   ]
  },
  {
   "cell_type": "code",
   "execution_count": 33,
   "id": "3bd4eee2",
   "metadata": {},
   "outputs": [],
   "source": [
    "stop_list= []\n",
    "\n",
    "for index, row in calc_df.iterrows():\n",
    "    stop = row['EndUnix']\n",
    "    stop_list.append(stop)\n",
    "\n",
    "start_list = []\n",
    "\n",
    "for index, row in calc_df.iloc[1:].iterrows():\n",
    "    start = row['StartUnix']\n",
    "    start_list.append(start)\n",
    "    "
   ]
  },
  {
   "cell_type": "code",
   "execution_count": 34,
   "id": "1e467f66",
   "metadata": {},
   "outputs": [],
   "source": [
    "index = 1\n",
    "\n",
    "for start, end in zip(start_list, stop_list):\n",
    "    result = (start - end) /60\n",
    "    #print(result)\n",
    "    calc_df.at[index, 'Time_to_Fill'] = result\n",
    "    index += 1"
   ]
  },
  {
   "cell_type": "code",
   "execution_count": 35,
   "id": "4920dff8",
   "metadata": {
    "scrolled": true
   },
   "outputs": [],
   "source": [
    "#calc_df"
   ]
  },
  {
   "cell_type": "markdown",
   "id": "b7cd2c1d",
   "metadata": {},
   "source": [
    "## Calculate Inflow and Average Inflow"
   ]
  },
  {
   "cell_type": "code",
   "execution_count": 36,
   "id": "6c18691b",
   "metadata": {},
   "outputs": [],
   "source": [
    "calc_df['Inflow'] = float()\n",
    "calc_df['Avg_Inflow'] = float()"
   ]
  },
  {
   "cell_type": "code",
   "execution_count": 37,
   "id": "345dbf3c",
   "metadata": {},
   "outputs": [],
   "source": [
    "for index, row in calc_df.iterrows():\n",
    "    if row['Time_to_Fill'] != 0:\n",
    "        inflow = row['volume_per_foot'] * row['Elevation_dif'] / row['Time_to_Fill']\n",
    "        calc_df.at[index, 'Inflow'] = inflow\n",
    "    else:\n",
    "        pass"
   ]
  },
  {
   "cell_type": "code",
   "execution_count": 38,
   "id": "87861798",
   "metadata": {},
   "outputs": [],
   "source": [
    "cum_sum = 0\n",
    "count = 0\n",
    "\n",
    "for index, row in calc_df.iterrows():\n",
    "    cum_sum += row['Inflow']\n",
    "    count += 1\n",
    "    calc_df.at[index, 'Avg_Inflow'] = cum_sum / count\n"
   ]
  },
  {
   "cell_type": "code",
   "execution_count": 39,
   "id": "59095001",
   "metadata": {},
   "outputs": [],
   "source": [
    "#calc_df"
   ]
  },
  {
   "cell_type": "markdown",
   "id": "7a9ed691",
   "metadata": {},
   "source": [
    "# Section 5"
   ]
  },
  {
   "cell_type": "markdown",
   "id": "ecc33e87",
   "metadata": {},
   "source": [
    "In this section I will calculate the actual pump flow rate in GPM, average flow rate per pump in GPM, and average pump flow rate in GPM.\n",
    "\n",
    "Actual pump flow rate - To calculate actual pump flow rate for each row in calc_df, I simply take the row's observed pumping flow rate value we calculated earlier, and add the row's inflow value.\n",
    "\n",
    "Average flow rate per pump - To calculate the average flow rate per pump I add the values in the actual pump flow rate column for each individual pump, and then divide that sum by the count of values for that pump. So if I iterate for 4 rows of the calc_df, and pump 1 has 3 out of the 4 rows with an actual pump flow rate of 100, 120, and 100, the formula will sum these three rows (320) and divide by the amount of rows that were related to pump 1 (3). The average flow rate per pump 1 in row 4 would be 106.\n",
    "\n",
    "Average pump flow rate - to calculate this value I simply add all the actual pump flow rates for both pumps and divide the sum by the count of rows I have iterated over. For example if I have iterated over 4 rows, and 2 of the rows are pump 1 and 2 are pump 2, i'll add up the values from both pumps (100,110,100,120) and divide the sum by 4 to calculate the average pump flow rate in GPM of 107.5."
   ]
  },
  {
   "cell_type": "markdown",
   "id": "4c046d18",
   "metadata": {},
   "source": [
    "## Calculate Actual Pump Flow Rate (GPM)"
   ]
  },
  {
   "cell_type": "code",
   "execution_count": 40,
   "id": "d744d7f0",
   "metadata": {},
   "outputs": [],
   "source": [
    "calc_df['Actual_Pump_Flow_Rate'] = float()"
   ]
  },
  {
   "cell_type": "code",
   "execution_count": 44,
   "id": "83a52b23",
   "metadata": {},
   "outputs": [],
   "source": [
    "for index, row in calc_df.iterrows():\n",
    "    result = round(row['observed_pumping_flow_rate'] + row['Inflow'])\n",
    "    calc_df.at[index, 'Actual_Pump_Flow_Rate'] = result"
   ]
  },
  {
   "cell_type": "code",
   "execution_count": 45,
   "id": "1e1773b4",
   "metadata": {},
   "outputs": [],
   "source": [
    "#calc_df.head(20)"
   ]
  },
  {
   "cell_type": "markdown",
   "id": "b70e2ea6",
   "metadata": {},
   "source": [
    "## Finally Let's calculate our Average Flow Rate Per Pump and the Average Pump Flow Rate in (GPM)"
   ]
  },
  {
   "cell_type": "code",
   "execution_count": 46,
   "id": "074843d0",
   "metadata": {},
   "outputs": [],
   "source": [
    "calc_df['Average_Pump_1_Flow_Rate'] = int()\n",
    "calc_df['Average_Pump_2_Flow_Rate'] = int()\n",
    "calc_df['Average_Pump_Flow_Rate(1&2)'] = int()"
   ]
  },
  {
   "cell_type": "code",
   "execution_count": 47,
   "id": "37231454",
   "metadata": {},
   "outputs": [],
   "source": [
    "cum_sum = 0\n",
    "count = 0\n",
    "\n",
    "for index, row in calc_df.iterrows():\n",
    "    if row['Pump_num'] == 974:\n",
    "        cum_sum += row['Actual_Pump_Flow_Rate']\n",
    "        count += 1\n",
    "        calc_df.at[index,'Average_Pump_1_Flow_Rate'] = cum_sum / count"
   ]
  },
  {
   "cell_type": "code",
   "execution_count": 48,
   "id": "513e8b27",
   "metadata": {},
   "outputs": [],
   "source": [
    "cum_sum = 0\n",
    "count = 0\n",
    "\n",
    "for index, row in calc_df.iterrows():\n",
    "    if row['Pump_num'] == 975:\n",
    "        cum_sum += row['Actual_Pump_Flow_Rate']\n",
    "        count += 1\n",
    "        calc_df.at[index,'Average_Pump_2_Flow_Rate'] = cum_sum / count"
   ]
  },
  {
   "cell_type": "code",
   "execution_count": 49,
   "id": "6e3e12b3",
   "metadata": {},
   "outputs": [],
   "source": [
    "cum_sum = 0\n",
    "count = 0\n",
    "\n",
    "for index, row in calc_df.iterrows():\n",
    "    cum_sum += row['Actual_Pump_Flow_Rate']\n",
    "    count += 1\n",
    "    calc_df.at[index,'Average_Pump_Flow_Rate(1&2)'] = cum_sum / count"
   ]
  },
  {
   "cell_type": "code",
   "execution_count": 50,
   "id": "41b5e077",
   "metadata": {
    "scrolled": true
   },
   "outputs": [
    {
     "data": {
      "text/html": [
       "<div>\n",
       "<style scoped>\n",
       "    .dataframe tbody tr th:only-of-type {\n",
       "        vertical-align: middle;\n",
       "    }\n",
       "\n",
       "    .dataframe tbody tr th {\n",
       "        vertical-align: top;\n",
       "    }\n",
       "\n",
       "    .dataframe thead th {\n",
       "        text-align: right;\n",
       "    }\n",
       "</style>\n",
       "<table border=\"1\" class=\"dataframe\">\n",
       "  <thead>\n",
       "    <tr style=\"text-align: right;\">\n",
       "      <th></th>\n",
       "      <th>StartDateAndTime</th>\n",
       "      <th>EndDateAndTime</th>\n",
       "      <th>StartUnix</th>\n",
       "      <th>EndUnix</th>\n",
       "      <th>Time_diff</th>\n",
       "      <th>Pump_num</th>\n",
       "      <th>Elevation_dif</th>\n",
       "      <th>volume_per_foot</th>\n",
       "      <th>observed_pumping_flow_rate</th>\n",
       "      <th>avg_flow_rate_pump</th>\n",
       "      <th>average_observed_pumping_flow_rate</th>\n",
       "      <th>Time_to_Fill</th>\n",
       "      <th>Inflow</th>\n",
       "      <th>Avg_Inflow</th>\n",
       "      <th>Actual_Pump_Flow_Rate</th>\n",
       "      <th>Average_Pump_1_Flow_Rate</th>\n",
       "      <th>Average_Pump_2_Flow_Rate</th>\n",
       "      <th>Average_Pump_Flow_Rate(1&amp;2)</th>\n",
       "    </tr>\n",
       "  </thead>\n",
       "  <tbody>\n",
       "    <tr>\n",
       "      <th>0</th>\n",
       "      <td>2022-09-01 09:03:12</td>\n",
       "      <td>2022-09-01 09:05:20</td>\n",
       "      <td>1.662023e+09</td>\n",
       "      <td>1.662023e+09</td>\n",
       "      <td>2.133333</td>\n",
       "      <td>975.0</td>\n",
       "      <td>2.2</td>\n",
       "      <td>147</td>\n",
       "      <td>152</td>\n",
       "      <td>152.000000</td>\n",
       "      <td>152.000000</td>\n",
       "      <td>0.000000</td>\n",
       "      <td>0.000000</td>\n",
       "      <td>0.000000</td>\n",
       "      <td>152.0</td>\n",
       "      <td>0.000000</td>\n",
       "      <td>152.000000</td>\n",
       "      <td>152.000000</td>\n",
       "    </tr>\n",
       "    <tr>\n",
       "      <th>1</th>\n",
       "      <td>2022-09-01 09:08:21</td>\n",
       "      <td>2022-09-01 09:09:47</td>\n",
       "      <td>1.662023e+09</td>\n",
       "      <td>1.662023e+09</td>\n",
       "      <td>1.433333</td>\n",
       "      <td>974.0</td>\n",
       "      <td>2.2</td>\n",
       "      <td>147</td>\n",
       "      <td>226</td>\n",
       "      <td>226.000000</td>\n",
       "      <td>189.000000</td>\n",
       "      <td>3.016667</td>\n",
       "      <td>107.204420</td>\n",
       "      <td>53.602210</td>\n",
       "      <td>333.0</td>\n",
       "      <td>333.000000</td>\n",
       "      <td>0.000000</td>\n",
       "      <td>242.500000</td>\n",
       "    </tr>\n",
       "    <tr>\n",
       "      <th>2</th>\n",
       "      <td>2022-09-01 09:12:48</td>\n",
       "      <td>2022-09-01 09:14:57</td>\n",
       "      <td>1.662024e+09</td>\n",
       "      <td>1.662024e+09</td>\n",
       "      <td>2.150000</td>\n",
       "      <td>975.0</td>\n",
       "      <td>2.2</td>\n",
       "      <td>147</td>\n",
       "      <td>150</td>\n",
       "      <td>151.000000</td>\n",
       "      <td>176.333333</td>\n",
       "      <td>3.016667</td>\n",
       "      <td>107.204420</td>\n",
       "      <td>71.469613</td>\n",
       "      <td>257.0</td>\n",
       "      <td>0.000000</td>\n",
       "      <td>204.500000</td>\n",
       "      <td>247.333333</td>\n",
       "    </tr>\n",
       "    <tr>\n",
       "      <th>3</th>\n",
       "      <td>2022-09-01 09:18:01</td>\n",
       "      <td>2022-09-01 09:19:26</td>\n",
       "      <td>1.662024e+09</td>\n",
       "      <td>1.662024e+09</td>\n",
       "      <td>1.416667</td>\n",
       "      <td>974.0</td>\n",
       "      <td>2.2</td>\n",
       "      <td>147</td>\n",
       "      <td>228</td>\n",
       "      <td>227.000000</td>\n",
       "      <td>189.000000</td>\n",
       "      <td>3.066667</td>\n",
       "      <td>105.456522</td>\n",
       "      <td>79.966340</td>\n",
       "      <td>333.0</td>\n",
       "      <td>333.000000</td>\n",
       "      <td>0.000000</td>\n",
       "      <td>268.750000</td>\n",
       "    </tr>\n",
       "    <tr>\n",
       "      <th>4</th>\n",
       "      <td>2022-09-01 09:22:32</td>\n",
       "      <td>2022-09-01 09:24:41</td>\n",
       "      <td>1.662024e+09</td>\n",
       "      <td>1.662024e+09</td>\n",
       "      <td>2.150000</td>\n",
       "      <td>975.0</td>\n",
       "      <td>2.2</td>\n",
       "      <td>147</td>\n",
       "      <td>150</td>\n",
       "      <td>150.666667</td>\n",
       "      <td>181.333333</td>\n",
       "      <td>3.100000</td>\n",
       "      <td>104.322581</td>\n",
       "      <td>84.837588</td>\n",
       "      <td>254.0</td>\n",
       "      <td>0.000000</td>\n",
       "      <td>221.000000</td>\n",
       "      <td>265.800000</td>\n",
       "    </tr>\n",
       "    <tr>\n",
       "      <th>...</th>\n",
       "      <td>...</td>\n",
       "      <td>...</td>\n",
       "      <td>...</td>\n",
       "      <td>...</td>\n",
       "      <td>...</td>\n",
       "      <td>...</td>\n",
       "      <td>...</td>\n",
       "      <td>...</td>\n",
       "      <td>...</td>\n",
       "      <td>...</td>\n",
       "      <td>...</td>\n",
       "      <td>...</td>\n",
       "      <td>...</td>\n",
       "      <td>...</td>\n",
       "      <td>...</td>\n",
       "      <td>...</td>\n",
       "      <td>...</td>\n",
       "      <td>...</td>\n",
       "    </tr>\n",
       "    <tr>\n",
       "      <th>4372</th>\n",
       "      <td>2022-09-22 17:16:10</td>\n",
       "      <td>2022-09-22 17:18:09</td>\n",
       "      <td>1.663867e+09</td>\n",
       "      <td>1.663867e+09</td>\n",
       "      <td>1.983333</td>\n",
       "      <td>975.0</td>\n",
       "      <td>2.2</td>\n",
       "      <td>147</td>\n",
       "      <td>163</td>\n",
       "      <td>198.980329</td>\n",
       "      <td>234.344729</td>\n",
       "      <td>3.900000</td>\n",
       "      <td>82.923077</td>\n",
       "      <td>84.097251</td>\n",
       "      <td>246.0</td>\n",
       "      <td>0.000000</td>\n",
       "      <td>284.586917</td>\n",
       "      <td>318.010976</td>\n",
       "    </tr>\n",
       "    <tr>\n",
       "      <th>4373</th>\n",
       "      <td>2022-09-22 17:22:04</td>\n",
       "      <td>2022-09-22 17:23:22</td>\n",
       "      <td>1.663867e+09</td>\n",
       "      <td>1.663867e+09</td>\n",
       "      <td>1.300000</td>\n",
       "      <td>974.0</td>\n",
       "      <td>2.2</td>\n",
       "      <td>147</td>\n",
       "      <td>249</td>\n",
       "      <td>269.295923</td>\n",
       "      <td>234.352719</td>\n",
       "      <td>3.916667</td>\n",
       "      <td>82.570213</td>\n",
       "      <td>84.096902</td>\n",
       "      <td>332.0</td>\n",
       "      <td>351.967476</td>\n",
       "      <td>0.000000</td>\n",
       "      <td>318.014175</td>\n",
       "    </tr>\n",
       "    <tr>\n",
       "      <th>4374</th>\n",
       "      <td>2022-09-22 17:27:09</td>\n",
       "      <td>2022-09-22 17:29:08</td>\n",
       "      <td>1.663868e+09</td>\n",
       "      <td>1.663868e+09</td>\n",
       "      <td>1.983333</td>\n",
       "      <td>975.0</td>\n",
       "      <td>2.2</td>\n",
       "      <td>147</td>\n",
       "      <td>163</td>\n",
       "      <td>198.963877</td>\n",
       "      <td>234.344630</td>\n",
       "      <td>3.783333</td>\n",
       "      <td>85.480176</td>\n",
       "      <td>84.097218</td>\n",
       "      <td>248.0</td>\n",
       "      <td>0.000000</td>\n",
       "      <td>284.570187</td>\n",
       "      <td>317.998171</td>\n",
       "    </tr>\n",
       "    <tr>\n",
       "      <th>4375</th>\n",
       "      <td>2022-09-22 17:32:51</td>\n",
       "      <td>2022-09-22 17:34:11</td>\n",
       "      <td>1.663868e+09</td>\n",
       "      <td>1.663868e+09</td>\n",
       "      <td>1.333333</td>\n",
       "      <td>974.0</td>\n",
       "      <td>2.2</td>\n",
       "      <td>147</td>\n",
       "      <td>243</td>\n",
       "      <td>269.283883</td>\n",
       "      <td>234.352615</td>\n",
       "      <td>3.716667</td>\n",
       "      <td>87.013453</td>\n",
       "      <td>84.097884</td>\n",
       "      <td>330.0</td>\n",
       "      <td>351.957418</td>\n",
       "      <td>0.000000</td>\n",
       "      <td>318.000914</td>\n",
       "    </tr>\n",
       "    <tr>\n",
       "      <th>4376</th>\n",
       "      <td>2022-09-22 17:37:57</td>\n",
       "      <td>2022-09-22 17:39:57</td>\n",
       "      <td>1.663868e+09</td>\n",
       "      <td>1.663868e+09</td>\n",
       "      <td>2.000000</td>\n",
       "      <td>975.0</td>\n",
       "      <td>2.2</td>\n",
       "      <td>147</td>\n",
       "      <td>162</td>\n",
       "      <td>198.946984</td>\n",
       "      <td>234.344526</td>\n",
       "      <td>3.766667</td>\n",
       "      <td>85.858407</td>\n",
       "      <td>84.098286</td>\n",
       "      <td>248.0</td>\n",
       "      <td>0.000000</td>\n",
       "      <td>284.553473</td>\n",
       "      <td>317.984921</td>\n",
       "    </tr>\n",
       "  </tbody>\n",
       "</table>\n",
       "<p>4377 rows × 18 columns</p>\n",
       "</div>"
      ],
      "text/plain": [
       "        StartDateAndTime      EndDateAndTime     StartUnix       EndUnix  \\\n",
       "0    2022-09-01 09:03:12 2022-09-01 09:05:20  1.662023e+09  1.662023e+09   \n",
       "1    2022-09-01 09:08:21 2022-09-01 09:09:47  1.662023e+09  1.662023e+09   \n",
       "2    2022-09-01 09:12:48 2022-09-01 09:14:57  1.662024e+09  1.662024e+09   \n",
       "3    2022-09-01 09:18:01 2022-09-01 09:19:26  1.662024e+09  1.662024e+09   \n",
       "4    2022-09-01 09:22:32 2022-09-01 09:24:41  1.662024e+09  1.662024e+09   \n",
       "...                  ...                 ...           ...           ...   \n",
       "4372 2022-09-22 17:16:10 2022-09-22 17:18:09  1.663867e+09  1.663867e+09   \n",
       "4373 2022-09-22 17:22:04 2022-09-22 17:23:22  1.663867e+09  1.663867e+09   \n",
       "4374 2022-09-22 17:27:09 2022-09-22 17:29:08  1.663868e+09  1.663868e+09   \n",
       "4375 2022-09-22 17:32:51 2022-09-22 17:34:11  1.663868e+09  1.663868e+09   \n",
       "4376 2022-09-22 17:37:57 2022-09-22 17:39:57  1.663868e+09  1.663868e+09   \n",
       "\n",
       "      Time_diff  Pump_num  Elevation_dif  volume_per_foot  \\\n",
       "0      2.133333     975.0            2.2              147   \n",
       "1      1.433333     974.0            2.2              147   \n",
       "2      2.150000     975.0            2.2              147   \n",
       "3      1.416667     974.0            2.2              147   \n",
       "4      2.150000     975.0            2.2              147   \n",
       "...         ...       ...            ...              ...   \n",
       "4372   1.983333     975.0            2.2              147   \n",
       "4373   1.300000     974.0            2.2              147   \n",
       "4374   1.983333     975.0            2.2              147   \n",
       "4375   1.333333     974.0            2.2              147   \n",
       "4376   2.000000     975.0            2.2              147   \n",
       "\n",
       "      observed_pumping_flow_rate  avg_flow_rate_pump  \\\n",
       "0                            152          152.000000   \n",
       "1                            226          226.000000   \n",
       "2                            150          151.000000   \n",
       "3                            228          227.000000   \n",
       "4                            150          150.666667   \n",
       "...                          ...                 ...   \n",
       "4372                         163          198.980329   \n",
       "4373                         249          269.295923   \n",
       "4374                         163          198.963877   \n",
       "4375                         243          269.283883   \n",
       "4376                         162          198.946984   \n",
       "\n",
       "      average_observed_pumping_flow_rate  Time_to_Fill      Inflow  \\\n",
       "0                             152.000000      0.000000    0.000000   \n",
       "1                             189.000000      3.016667  107.204420   \n",
       "2                             176.333333      3.016667  107.204420   \n",
       "3                             189.000000      3.066667  105.456522   \n",
       "4                             181.333333      3.100000  104.322581   \n",
       "...                                  ...           ...         ...   \n",
       "4372                          234.344729      3.900000   82.923077   \n",
       "4373                          234.352719      3.916667   82.570213   \n",
       "4374                          234.344630      3.783333   85.480176   \n",
       "4375                          234.352615      3.716667   87.013453   \n",
       "4376                          234.344526      3.766667   85.858407   \n",
       "\n",
       "      Avg_Inflow  Actual_Pump_Flow_Rate  Average_Pump_1_Flow_Rate  \\\n",
       "0       0.000000                  152.0                  0.000000   \n",
       "1      53.602210                  333.0                333.000000   \n",
       "2      71.469613                  257.0                  0.000000   \n",
       "3      79.966340                  333.0                333.000000   \n",
       "4      84.837588                  254.0                  0.000000   \n",
       "...          ...                    ...                       ...   \n",
       "4372   84.097251                  246.0                  0.000000   \n",
       "4373   84.096902                  332.0                351.967476   \n",
       "4374   84.097218                  248.0                  0.000000   \n",
       "4375   84.097884                  330.0                351.957418   \n",
       "4376   84.098286                  248.0                  0.000000   \n",
       "\n",
       "      Average_Pump_2_Flow_Rate  Average_Pump_Flow_Rate(1&2)  \n",
       "0                   152.000000                   152.000000  \n",
       "1                     0.000000                   242.500000  \n",
       "2                   204.500000                   247.333333  \n",
       "3                     0.000000                   268.750000  \n",
       "4                   221.000000                   265.800000  \n",
       "...                        ...                          ...  \n",
       "4372                284.586917                   318.010976  \n",
       "4373                  0.000000                   318.014175  \n",
       "4374                284.570187                   317.998171  \n",
       "4375                  0.000000                   318.000914  \n",
       "4376                284.553473                   317.984921  \n",
       "\n",
       "[4377 rows x 18 columns]"
      ]
     },
     "execution_count": 50,
     "metadata": {},
     "output_type": "execute_result"
    }
   ],
   "source": [
    "calc_df"
   ]
  },
  {
   "cell_type": "code",
   "execution_count": null,
   "id": "941c7ddb",
   "metadata": {},
   "outputs": [],
   "source": [
    "calc_df.to_csv(\"Model Data for Kelly Lift Station.csv\")"
   ]
  },
  {
   "cell_type": "code",
   "execution_count": null,
   "id": "04ef5b27",
   "metadata": {},
   "outputs": [],
   "source": []
  }
 ],
 "metadata": {
  "kernelspec": {
   "display_name": "Python 3 (ipykernel)",
   "language": "python",
   "name": "python3"
  },
  "language_info": {
   "codemirror_mode": {
    "name": "ipython",
    "version": 3
   },
   "file_extension": ".py",
   "mimetype": "text/x-python",
   "name": "python",
   "nbconvert_exporter": "python",
   "pygments_lexer": "ipython3",
   "version": "3.9.13"
  }
 },
 "nbformat": 4,
 "nbformat_minor": 5
}
