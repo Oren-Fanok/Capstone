{
 "cells": [
  {
   "cell_type": "markdown",
   "id": "d72d653f",
   "metadata": {},
   "source": [
    "# SCADA Flow Rate Calculation Model"
   ]
  },
  {
   "cell_type": "code",
   "execution_count": 1,
   "id": "5e52dc9b",
   "metadata": {},
   "outputs": [],
   "source": [
    "import pandas as pd\n",
    "import os\n",
    "import csv\n",
    "import math\n",
    "\n",
    "import re\n",
    "import datetime\n",
    "import io\n",
    "from zipfile import ZipFile\n",
    "\n",
    "import pandas as pd\n",
    "import numpy as np\n",
    "import pandas_gbq\n",
    "import janitor"
   ]
  },
  {
   "cell_type": "markdown",
   "id": "9136e846",
   "metadata": {},
   "source": [
    "# Step 1: Load Scada & Legend Data"
   ]
  },
  {
   "cell_type": "markdown",
   "id": "f60718dc",
   "metadata": {},
   "source": [
    "This section will cover loading the Scada data and the Legend data, from your local drive into the Python notebook.\n"
   ]
  },
  {
   "cell_type": "markdown",
   "id": "3ebeae29",
   "metadata": {},
   "source": [
    "## Read Scada data into a data frame"
   ]
  },
  {
   "cell_type": "code",
   "execution_count": 31,
   "id": "ad5d3267",
   "metadata": {
    "scrolled": false
   },
   "outputs": [],
   "source": [
    "df = pd.read_csv('LiftStation.csv')"
   ]
  },
  {
   "cell_type": "markdown",
   "id": "2eb7c562",
   "metadata": {},
   "source": [
    "## Read Legend data into a data frame"
   ]
  },
  {
   "cell_type": "code",
   "execution_count": 3,
   "id": "9f8892a7",
   "metadata": {},
   "outputs": [],
   "source": [
    "legend = pd.read_csv('Lift Station Legend Cross Referance.csv')"
   ]
  },
  {
   "cell_type": "markdown",
   "id": "5cab34c2",
   "metadata": {},
   "source": [
    "# Step 2: Clean and Format the Data"
   ]
  },
  {
   "cell_type": "markdown",
   "id": "bd7a7a4d",
   "metadata": {},
   "source": [
    "## Clean the Legend data"
   ]
  },
  {
   "cell_type": "code",
   "execution_count": 4,
   "id": "1b0fdfd8",
   "metadata": {},
   "outputs": [],
   "source": [
    "legend = legend.drop('Pump #1 Run', axis=1)\n",
    "legend = legend.drop('Pump #2 Run', axis=1)\n",
    "legend = legend.drop('Pump #3 Run', axis=1)\n",
    "legend = legend.drop('Table Tag #.4', axis=1)\n",
    "legend = legend.drop('Pump #4 Run', axis=1)\n",
    "legend = legend.drop('Unnamed: 11', axis=1)"
   ]
  },
  {
   "cell_type": "markdown",
   "id": "4d099a59",
   "metadata": {},
   "source": [
    "## Convert Scada DateAndTime column to Datetime Format"
   ]
  },
  {
   "cell_type": "code",
   "execution_count": 5,
   "id": "8f310725",
   "metadata": {},
   "outputs": [],
   "source": [
    "df['PumpStart'] = pd.to_datetime(df['PumpStart'])\n",
    "df['PumpStop'] = pd.to_datetime(df['PumpStop'])"
   ]
  },
  {
   "cell_type": "markdown",
   "id": "da1c6a82",
   "metadata": {},
   "source": [
    "## Format the dataframe"
   ]
  },
  {
   "cell_type": "markdown",
   "id": "2a80b91e",
   "metadata": {},
   "source": [
    "Drop any rows without a timestamp in the pump start and pump stop columns."
   ]
  },
  {
   "cell_type": "code",
   "execution_count": 6,
   "id": "bb74c6c0",
   "metadata": {},
   "outputs": [],
   "source": [
    "df = df.dropna(subset=['PumpStart', 'PumpStop'])"
   ]
  },
  {
   "cell_type": "markdown",
   "id": "eb41dce7",
   "metadata": {},
   "source": [
    "Convert the pump number column to integer format."
   ]
  },
  {
   "cell_type": "code",
   "execution_count": 7,
   "id": "4f5c264c",
   "metadata": {},
   "outputs": [],
   "source": [
    "df['PumpTagIndex'] = df['PumpTagIndex'].astype(int)"
   ]
  },
  {
   "cell_type": "markdown",
   "id": "ecb4c021",
   "metadata": {},
   "source": [
    "Check for and remove duplicate entries with matching pump numbers and pump start and stop times."
   ]
  },
  {
   "cell_type": "code",
   "execution_count": 8,
   "id": "49b255b4",
   "metadata": {},
   "outputs": [],
   "source": [
    "# create a boolean mask of rows with duplicate \"PumpTagIndex\" and \"PumpStart\" values\n",
    "mask = df.duplicated(subset =['PumpTagIndex', 'PumpStart'], keep = 'first')\n",
    "\n",
    "# drop the duplicate rows using the boolean mask\n",
    "new_df = df[~mask]\n",
    "\n",
    "# reset the index after dropping rows\n",
    "new_df.reset_index(drop=True, inplace=True)"
   ]
  },
  {
   "cell_type": "code",
   "execution_count": 9,
   "id": "90c535d8",
   "metadata": {},
   "outputs": [],
   "source": [
    "# create a boolean mask of rows with duplicate \"PumpTagIndex\" and \"PumpStop\" values\n",
    "mask = new_df.duplicated(subset=['PumpTagIndex', 'PumpStop'], keep='first')\n",
    "\n",
    "# drop the duplicate rows using the boolean mask\n",
    "new_df = new_df[~mask]\n",
    "\n",
    "# reset the index after dropping rows\n",
    "new_df.reset_index(drop=True, inplace=True)"
   ]
  },
  {
   "cell_type": "markdown",
   "id": "9d2d6eae",
   "metadata": {},
   "source": [
    "# Step 3: Initializing two Data Frames and the Flow Rate Function"
   ]
  },
  {
   "cell_type": "markdown",
   "id": "481cd281",
   "metadata": {},
   "source": [
    "Step 3 will create two data frames to store the results of the function in. It will also cover initializing the function for use in step 3.\n",
    "\n",
    "1. Click the play buttons on all the sections below until you reach step 3."
   ]
  },
  {
   "cell_type": "markdown",
   "id": "9d4d16de",
   "metadata": {},
   "source": [
    "## Create a data frame to store function results: Calc_df"
   ]
  },
  {
   "cell_type": "code",
   "execution_count": 23,
   "id": "549b6111",
   "metadata": {},
   "outputs": [],
   "source": [
    "calc_df = pd.DataFrame()\n",
    "calc_df['LiftStation'] = ()\n",
    "calc_df['PumpTagIndex'] = ()\n",
    "calc_df['PumpStartTime'] = ()\n",
    "calc_df['StartWellLevel'] = ()\n",
    "calc_df['PumpStopTime'] = ()\n",
    "calc_df['StopWellLevel'] = ()\n",
    "calc_df['StartUnix'] = ()\n",
    "calc_df['StopUnix'] = ()\n",
    "calc_df['Time_diff'] = ()\n",
    "calc_df['Elevation_dif'] = ()\n",
    "calc_df['Wet_well_diam'] = ()\n",
    "calc_df['volume_per_foot'] = ()\n",
    "calc_df['Observed_pumping_flow_rate'] = ()\n",
    "calc_df['Avg_flow_rate_pump'] = int()\n",
    "calc_df['Average_observed_pumping_flow_rate'] = ()\n",
    "calc_df['Time_to_Fill'] = ()\n",
    "calc_df['Inflow'] = ()\n",
    "calc_df['Avg_Inflow'] = ()\n",
    "calc_df['Actual_Pump_Flow_Rate'] = ()\n",
    "calc_df['Average_Pump_Flow_Rate'] = ()\n",
    "calc_df['Average_Pump_Flow_Rate_(all)'] = ()"
   ]
  },
  {
   "cell_type": "markdown",
   "id": "527b4888",
   "metadata": {},
   "source": [
    "## Create a data frame to store redundant function results: Same Time Pumps"
   ]
  },
  {
   "cell_type": "code",
   "execution_count": 24,
   "id": "b203c198",
   "metadata": {},
   "outputs": [],
   "source": [
    "same_time_pumps = pd.DataFrame()\n",
    "same_time_pumps['LiftStation'] = ()\n",
    "same_time_pumps['PumpTagIndex'] = ()\n",
    "same_time_pumps['PumpStartTime'] = ()\n",
    "same_time_pumps['StartWellLevel'] = ()\n",
    "same_time_pumps['PumpStopTime'] = ()\n",
    "same_time_pumps['StopWellLevel'] = ()\n",
    "same_time_pumps['StartUnix'] = ()\n",
    "same_time_pumps['StopUnix'] = ()\n",
    "same_time_pumps['Time_diff'] = ()\n",
    "same_time_pumps['Elevation_dif'] = ()\n",
    "same_time_pumps['Wet_well_diam'] = ()\n",
    "same_time_pumps['volume_per_foot'] = ()\n",
    "same_time_pumps['Observed_pumping_flow_rate'] = ()\n",
    "same_time_pumps['Avg_flow_rate_pump'] = int()\n",
    "same_time_pumps['Average_observed_pumping_flow_rate'] = ()"
   ]
  },
  {
   "cell_type": "markdown",
   "id": "0a3b4937",
   "metadata": {},
   "source": [
    "# Flow Rate Function"
   ]
  },
  {
   "cell_type": "code",
   "execution_count": 15,
   "id": "ea6cc7e2",
   "metadata": {},
   "outputs": [],
   "source": [
    "def flow_rate_calculation (new_df):\n",
    "    \n",
    "    #create the calculated dataframe to store our flow rate data\n",
    "    calc_df = new_df\n",
    "    calc_df = calc_df.rename(columns={'PumpStart': 'PumpStartTime'})\n",
    "    calc_df = calc_df.rename(columns={'PumpStop': 'PumpStopTime'})\n",
    "    calc_df = calc_df.rename(columns={'WellStart': 'StartWellLevel'})\n",
    "    calc_df = calc_df.rename(columns={'WellEnd': 'StopWellLevel'})\n",
    "    calc_df['LiftStation'] = None\n",
    "    calc_df['StartUnix'] = 0.0\n",
    "    calc_df['StopUnix'] = 0.0\n",
    "    calc_df['Time_diff'] = 0.0\n",
    "    \n",
    "    #arrange columns\n",
    "    calc_df = calc_df[['LiftStation','PumpTagIndex', 'PumpStartTime', 'StartWellLevel','PumpStopTime', 'StopWellLevel', 'StartUnix', 'StopUnix','Time_diff']]\n",
    "    \n",
    "    #Delete any rows with incorrect pump numbers\n",
    "    \n",
    "    #create a list of valid pump numbers\n",
    "\n",
    "    valid_pumps = []\n",
    "\n",
    "    for index, row in legend.iterrows():\n",
    "        valid_pumps.append(row['Table Tag #'])\n",
    "        valid_pumps.append(row['Table Tag #.1'])\n",
    "        valid_pumps.append(row['Table Tag #.2'])\n",
    "        valid_pumps.append(row['Table Tag #.3'])\n",
    "\n",
    "    valid_pumps = list(filter(lambda x: not math.isnan(x), valid_pumps))\n",
    "    \n",
    "    calc_df = calc_df[calc_df['PumpTagIndex'].isin(valid_pumps)]\n",
    "    calc_df = calc_df.reset_index(drop=True)\n",
    "    calc_df['PumpTagIndex'] = calc_df['PumpTagIndex'].astype(int)\n",
    "    \n",
    "    #Add the correct Lift Station to each row in calc_df\n",
    "    \n",
    "    #First Left Join (Table Tag 0)\n",
    "    \n",
    "    # Left join calc_df to legend df where Pump Tag Index = Table Tag\n",
    "    merged_df = calc_df.merge(legend, left_on='PumpTagIndex', right_on='Table Tag #', how='left')\n",
    "\n",
    "    # Create a mask to filter the rows where Lift Station is not empty\n",
    "    mask = merged_df['Lift Station'].notnull()\n",
    "\n",
    "    # Assign the Lift Station values to the LiftStation column in the calc_df dataframe\n",
    "    calc_df.loc[mask, 'LiftStation'] = merged_df.loc[mask, 'Lift Station']\n",
    "\n",
    "    #Second Left Join (Table Tag 1)\n",
    "    # Left join calc_df to legend df where Pump Tag Index = Table Tag #.1\n",
    "    merged_df = calc_df.merge(legend, left_on='PumpTagIndex', right_on='Table Tag #.1', how='left')\n",
    "\n",
    "    # Create a mask to filter the rows where Lift Station is not empty\n",
    "    mask = merged_df['Lift Station'].notnull()\n",
    "\n",
    "    # Assign the Lift Station values to the LiftStation column in the calc_df dataframe\n",
    "    calc_df.loc[mask, 'LiftStation'] = merged_df.loc[mask, 'Lift Station']\n",
    "\n",
    "    #Third Left Join (Table Tag 2)\n",
    "    # Left join calc_df to legend df where Pump Tag Index = Table Tag #.2\n",
    "    merged_df = calc_df.merge(legend, left_on='PumpTagIndex', right_on='Table Tag #.2', how='left')\n",
    "\n",
    "    # Create a mask to filter the rows where Lift Station is not empty\n",
    "    mask = merged_df['Lift Station'].notnull()\n",
    "\n",
    "    # Assign the Lift Station values to the LiftStation column in the calc_df dataframe\n",
    "    calc_df.loc[mask, 'LiftStation'] = merged_df.loc[mask, 'Lift Station']\n",
    "\n",
    "    #Third Left Join (Table Tag 3)\n",
    "    # Left join calc_df to legend df where Pump Tag Index = Table Tag #.3\n",
    "    merged_df = calc_df.merge(legend, left_on='PumpTagIndex', right_on='Table Tag #.3', how='left')\n",
    "\n",
    "    # Create a mask to filter the rows where Lift Station is not empty\n",
    "    mask = merged_df['Lift Station'].notnull()\n",
    "\n",
    "    # Assign the Lift Station values to the LiftStation column in the calc_df dataframe\n",
    "    calc_df.loc[mask, 'LiftStation'] = merged_df.loc[mask, 'Lift Station']\n",
    "    \n",
    "    #Now I'll remove unneeded lift stations\n",
    "    calc_df = calc_df.drop(calc_df[calc_df['LiftStation'].isin(['Stratford 2662 (20)', 'Linda Vista Lift Station (5)', 'Linda Vista Golf Course (12)', 'Reserve Street (14)'])].index)\n",
    "    calc_df = calc_df.reset_index(drop=True)\n",
    "\n",
    "    #Now let's get Unix time for each timestamp\n",
    "    calc_df['StartUnix'] = pd.to_datetime(calc_df['PumpStartTime']).astype(int)/ 10**9\n",
    "    calc_df['StopUnix'] = pd.to_datetime(calc_df['PumpStopTime']).astype(int) / 10**9\n",
    "    \n",
    "    #Next I'll calculate the time difference between Pumps turning on and off\n",
    "    calc_df['Time_diff'] = (calc_df['StopUnix'] - calc_df['StartUnix']) / 60\n",
    "    \n",
    "    \n",
    "    #Section 3 \n",
    "    \n",
    "    #Add in Elevation Difference\n",
    "    elevation_dict = {}\n",
    "\n",
    "    for index,row in legend.iterrows():\n",
    "        tag = row['Lift Station']\n",
    "        elevation_dict[tag] = row['Elevation Diff']\n",
    "\n",
    "    for index, row in calc_df.iterrows():\n",
    "        tag = row['LiftStation']\n",
    "        calc_df.at[index,'Elevation_dif'] = elevation_dict[tag]\n",
    "        \n",
    "    #Calculate Volume Per Foot for each well\n",
    "    #initialize new column\n",
    "    calc_df['Wet_well_diam'] = 0.0\n",
    "\n",
    "    # left join calc_df and legend df on lift station\n",
    "    merged_df = calc_df.merge(legend, left_on = 'LiftStation', right_on = 'Lift Station', how = 'left')\n",
    "\n",
    "    #create a boolean mask to find all rows where we have a wet well diameter\n",
    "    mask = merged_df['Wet Well Diam'].notnull()\n",
    "\n",
    "    #add the wet well diameter value from the legend dataframe to the calc_df where mask is true\n",
    "    calc_df.loc[mask, 'Wet_well_diam'] = merged_df.loc[mask, 'Wet Well Diam']\n",
    "    \n",
    "    #Calculate volume per foot\n",
    "    calc_df['volume_per_foot'] = round(((calc_df['Wet_well_diam']*calc_df['Wet_well_diam']) * 3.14)/4*7.48)\n",
    "    \n",
    "    #Calculate Observed Pumping Flow Rate\n",
    "    \n",
    "    calc_df['Observed_pumping_flow_rate'] = int()\n",
    "    for index, row in calc_df.iterrows():\n",
    "        result = round((row['Elevation_dif'] * row['volume_per_foot'])/row['Time_diff'])\n",
    "        calc_df.at[index,'Observed_pumping_flow_rate'] = result\n",
    "        \n",
    "    #Calculate Average Flow Rate Per Pump\n",
    "    calc_df['Avg_flow_rate_pump'] = int()\n",
    "    \n",
    "    #Create two dictionaries\n",
    "    #1. Dictionary containing a running total of Observed Pumping Flow Rate for each pump\n",
    "    #2. Dictionary containing a running row count of Observed Pumping Flow Rate for each pump\n",
    "    \n",
    "    sum_dict ={}\n",
    "    count_dict ={}\n",
    "\n",
    "    for item in valid_pumps:\n",
    "        result = 0\n",
    "        sum_dict[item] = result\n",
    "        count_dict[item] = result\n",
    "        \n",
    "    #Calculate Average Flow Rate Per Pump\n",
    "    for index, row in calc_df.iterrows():\n",
    "        tag = row[\"PumpTagIndex\"]\n",
    "        sum_dict[tag] += row['Observed_pumping_flow_rate']\n",
    "        count_dict[tag] += 1\n",
    "        calc_df.at[index, 'Avg_flow_rate_pump'] = sum_dict[tag] / count_dict[tag]    \n",
    "        \n",
    "    #Finally Let's calculate our Average Observed Pumping Flow Rate (GPM)\n",
    "    calc_df['Average_observed_pumping_flow_rate'] = int()\n",
    "    \n",
    "    #Create a dictionary for sum and count for each Lift Station\n",
    "    sum_dict ={}\n",
    "    count_dict ={}\n",
    "\n",
    "    for index, row in legend.iterrows():\n",
    "        result = 0\n",
    "        tag = row['Lift Station']\n",
    "        sum_dict[tag] = result\n",
    "        count_dict[tag] = result\n",
    "        \n",
    "    #Calculate Average Observed Pumping Flow Rate (GPM)\n",
    "    for index, row in calc_df.iterrows():\n",
    "        tag = row[\"LiftStation\"]\n",
    "        sum_dict[tag] += row['Observed_pumping_flow_rate']\n",
    "        count_dict[tag] += 1\n",
    "        calc_df.at[index, 'Average_observed_pumping_flow_rate'] = sum_dict[tag] / count_dict[tag]\n",
    "        \n",
    "    \n",
    "    #Section 4\n",
    "    \n",
    "    #Calculate time to fill\n",
    "    calc_df['Time_to_Fill'] = float\n",
    "   \n",
    "    # Sort the dataframe by LiftStation and PumpStartTime\n",
    "    calc_df = calc_df.sort_values(by=['LiftStation', 'PumpStartTime'])\n",
    "    calc_df = calc_df.reset_index(drop=True)\n",
    "    \n",
    "    #Calculate time to fill and remove redundant rows\n",
    "    same_time_pumps = pd.DataFrame(columns=calc_df.columns)\n",
    "    rows_to_drop = []\n",
    "\n",
    "    for index, row in calc_df.iterrows():\n",
    "        if index == 0:\n",
    "            calc_df.at[index, 'Time_to_Fill'] = 0\n",
    "            continue\n",
    "\n",
    "        if row['LiftStation'] == calc_df.iloc[index-1]['LiftStation']:\n",
    "            result = (row['StartUnix'] - calc_df.iloc[index-1]['StopUnix'])/60\n",
    "            if result > 1.0:\n",
    "                calc_df.at[index, 'Time_to_Fill'] = result\n",
    "            else:\n",
    "                rows_to_drop.append(index-1)\n",
    "                rows_to_drop.append(index)\n",
    "                same_time_pumps = same_time_pumps.append(calc_df.iloc[index-1])\n",
    "                same_time_pumps = same_time_pumps.append(calc_df.iloc[index])\n",
    "\n",
    "        if row['LiftStation'] != calc_df.iloc[index-1]['LiftStation']:\n",
    "            result = 0\n",
    "            calc_df.at[index, 'Time_to_Fill'] = result\n",
    "\n",
    "    # Drop the rows to be removed from calc_df\n",
    "    calc_df.drop(index=rows_to_drop, inplace=True)\n",
    "    # Reset the index of calc_df after dropping rows\n",
    "    calc_df = calc_df.reset_index(drop=True) \n",
    "    \n",
    "    #Calculate Inflow\n",
    "    calc_df['Inflow'] = float()\n",
    "    calc_df['Avg_Inflow'] = float()\n",
    "    \n",
    "    for index, row in calc_df.iterrows():\n",
    "        if row['Time_to_Fill'] > 0:\n",
    "            inflow = row['volume_per_foot'] * row['Elevation_dif'] / row['Time_to_Fill']\n",
    "            calc_df.at[index, 'Inflow'] = inflow\n",
    "        else:\n",
    "            pass\n",
    "    \n",
    "    #Calculate Average Inflow\n",
    "    sum_dict ={}\n",
    "    count_dict ={}\n",
    "\n",
    "    for index, row in legend.iterrows():\n",
    "        result = 0\n",
    "        tag = row['Lift Station']\n",
    "        sum_dict[tag] = result\n",
    "        count_dict[tag] = result\n",
    "\n",
    "    for index, row in calc_df.iterrows():\n",
    "        if row['Time_to_Fill'] > 0:\n",
    "            tag = row['LiftStation']\n",
    "            sum_dict[tag] += row['Inflow']\n",
    "            count_dict[tag] += 1\n",
    "            calc_df.at[index, 'Avg_Inflow'] = sum_dict[tag] / count_dict[tag]\n",
    "            \n",
    "    #Section 5\n",
    "    \n",
    "    #Calculate Actual Pump Flow Rate (GPM)\n",
    "    calc_df['Actual_Pump_Flow_Rate'] = float()\n",
    "    \n",
    "    for index, row in calc_df.iterrows():\n",
    "        result = round(row['Observed_pumping_flow_rate'] + row['Inflow'])\n",
    "        calc_df.at[index, 'Actual_Pump_Flow_Rate'] = result\n",
    "\n",
    "\n",
    "    #Calculate Average Pump Flow Rate per pump(GPM)\n",
    "    calc_df['Average_Pump_Flow_Rate'] = int()\n",
    "    calc_df['Average_Pump_Flow_Rate_(all)'] = int()\n",
    "    \n",
    "    pump_sum_dict={}\n",
    "    pump_count_dict={}\n",
    "\n",
    "    for item in valid_pumps:\n",
    "        pump_sum_dict[item]=0\n",
    "        pump_count_dict[item]=0\n",
    "\n",
    "    for index, row in calc_df.iterrows():\n",
    "        tag = row['PumpTagIndex']\n",
    "        pump_sum_dict[tag] += row['Actual_Pump_Flow_Rate']\n",
    "        pump_count_dict[tag] += 1\n",
    "        calc_df.at[index,'Average_Pump_Flow_Rate'] = pump_sum_dict[tag] / pump_count_dict[tag]\n",
    "        \n",
    "    #Calculate Average Pump Flow Rate (all pumps)\n",
    "    sum_dict ={}\n",
    "    count_dict ={}\n",
    "\n",
    "    for index, row in legend.iterrows():\n",
    "        result = 0\n",
    "        tag = row['Lift Station']\n",
    "        sum_dict[tag] = result\n",
    "        count_dict[tag] = result\n",
    "\n",
    "    for index, row in calc_df.iterrows():\n",
    "        tag = row['LiftStation']\n",
    "        sum_dict[tag] += row['Actual_Pump_Flow_Rate']\n",
    "        count_dict[tag] += 1\n",
    "        calc_df.at[index,'Average_Pump_Flow_Rate_(all)'] = sum_dict[tag] / count_dict[tag]\n",
    "    \n",
    "    # Important this needs to be changed for Plug In 2 to run. When the user wants to run Plug In 2,\n",
    "    # put a # in front of return(calc_df). Remove the # from in front of return(same_time_pumps).\n",
    "    # Once you have made this change click the play button above to re initialize the function.\n",
    "    # You are now ready to run Plug In 2.\n",
    "\n",
    "    return(calc_df)\n",
    "    #return(same_time_pumps)\n",
    "    \n",
    "    "
   ]
  },
  {
   "cell_type": "markdown",
   "id": "9b757bbe",
   "metadata": {},
   "source": [
    "# Step 4: Running the Flow Rate Function"
   ]
  },
  {
   "cell_type": "markdown",
   "id": "d15c2bcb",
   "metadata": {},
   "source": [
    "Instructions\n",
    "\n",
    "You are now ready to run the function using the loaded SCADA data, and the lift station specifics from the table above.\n",
    "\n",
    "Important: There are plug in options below. The first plug in returns the calculated data frame that contains all flow rate data. Plug in 2 returns the same time pumps dataframe, which contains all of the rows with negative values or values underneath 1 minute in the time to fill column.\n",
    "\n",
    "1. Click the play icon on the line beneath the Plug In 1 text. The function will begin to run (this will take 10-15 minutes).\n",
    "\n",
    "2. Once the Plug In 1 is finished running, to run Plug In 2 you will need to make one change to the function above.\n",
    "\n",
    "3. In the function above on line 282, put a # in front of return(calc_df). Remove the # from in front of return(same_time_pumps). Once you have made this change click the play button on the function box again, to re initialize the function. You are now ready to run Plug In 2.\n",
    "\n",
    "Note: Red colored messages will be displayed when the function runs, this is not an error."
   ]
  },
  {
   "cell_type": "markdown",
   "id": "45108672",
   "metadata": {},
   "source": [
    "## Plug In 1"
   ]
  },
  {
   "cell_type": "code",
   "execution_count": 22,
   "id": "1105084e",
   "metadata": {},
   "outputs": [],
   "source": [
    "calc_df = calc_df.append(flow_rate_calculation(new_df))"
   ]
  },
  {
   "cell_type": "code",
   "execution_count": 19,
   "id": "70b0c6e3",
   "metadata": {},
   "outputs": [],
   "source": [
    "#calc_df"
   ]
  },
  {
   "cell_type": "markdown",
   "id": "dab9721e",
   "metadata": {},
   "source": [
    "## Plug In 2"
   ]
  },
  {
   "cell_type": "code",
   "execution_count": 21,
   "id": "6fe68ced",
   "metadata": {},
   "outputs": [],
   "source": [
    "same_time_pumps = same_time_pumps.append(flow_rate_calculation(new_df))"
   ]
  },
  {
   "cell_type": "code",
   "execution_count": 20,
   "id": "ac754648",
   "metadata": {},
   "outputs": [],
   "source": [
    "#same_time_pumps"
   ]
  },
  {
   "cell_type": "markdown",
   "id": "57fde661",
   "metadata": {},
   "source": [
    "# Step 5: Exporting the Data"
   ]
  },
  {
   "cell_type": "markdown",
   "id": "f8d63ed3",
   "metadata": {},
   "source": [
    "This final section will export both of the dataframes to csv files for further use.\n",
    "1. Simply click the play button on both of the export lines below to export csv's to your local hard drive."
   ]
  },
  {
   "cell_type": "markdown",
   "id": "66c13c2f",
   "metadata": {},
   "source": [
    "## Export the data to CSV"
   ]
  },
  {
   "cell_type": "code",
   "execution_count": 39,
   "id": "941c7ddb",
   "metadata": {},
   "outputs": [],
   "source": [
    "calc_df.to_csv(\"Flow Rate Data for all Lift Stations.csv\")"
   ]
  },
  {
   "cell_type": "code",
   "execution_count": null,
   "id": "58369281",
   "metadata": {},
   "outputs": [],
   "source": [
    "same_time_pumps.to_csv(\"Pumps Running at the same time.csv\")"
   ]
  }
 ],
 "metadata": {
  "kernelspec": {
   "display_name": "Python 3 (ipykernel)",
   "language": "python",
   "name": "python3"
  },
  "language_info": {
   "codemirror_mode": {
    "name": "ipython",
    "version": 3
   },
   "file_extension": ".py",
   "mimetype": "text/x-python",
   "name": "python",
   "nbconvert_exporter": "python",
   "pygments_lexer": "ipython3",
   "version": "3.9.13"
  }
 },
 "nbformat": 4,
 "nbformat_minor": 5
}
